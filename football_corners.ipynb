{
 "cells": [
  {
   "cell_type": "code",
   "execution_count": 49,
   "metadata": {},
   "outputs": [],
   "source": [
    "\n",
    "from pyspark.sql.functions import count, date_sub, current_date, split, lit, when\n",
    "import pandas as pd\n",
    "import shutil\n",
    "from decimal import Decimal\n",
    "from lib import common_functions\n",
    "from lib import configuration\n",
    "#from lib.predict_corners import get_corner_predictions\n",
    "\n",
    "from my_predictive_model.src.predict import get_corner_predictions"
   ]
  },
  {
   "cell_type": "code",
   "execution_count": 50,
   "metadata": {},
   "outputs": [
    {
     "data": {
      "text/html": [
       "\n",
       "            <div>\n",
       "                <p><b>SparkSession - in-memory</b></p>\n",
       "                \n",
       "        <div>\n",
       "            <p><b>SparkContext</b></p>\n",
       "\n",
       "            <p><a href=\"http://b5276166e025:4040\">Spark UI</a></p>\n",
       "\n",
       "            <dl>\n",
       "              <dt>Version</dt>\n",
       "                <dd><code>v3.5.0</code></dd>\n",
       "              <dt>Master</dt>\n",
       "                <dd><code>local[*]</code></dd>\n",
       "              <dt>AppName</dt>\n",
       "                <dd><code>corners</code></dd>\n",
       "            </dl>\n",
       "        </div>\n",
       "        \n",
       "            </div>\n",
       "        "
      ],
      "text/plain": [
       "<pyspark.sql.session.SparkSession at 0x7efe76a20860>"
      ]
     },
     "execution_count": 50,
     "metadata": {},
     "output_type": "execute_result"
    }
   ],
   "source": [
    "spark = common_functions.get_spark_session('corners')\n",
    "spark.active()"
   ]
  },
  {
   "cell_type": "code",
   "execution_count": 51,
   "metadata": {},
   "outputs": [
    {
     "data": {
      "text/plain": [
       "1609"
      ]
     },
     "execution_count": 51,
     "metadata": {},
     "output_type": "execute_result"
    }
   ],
   "source": [
    "df_corners = spark.read.option(\"header\", True).load(f'{configuration.football_corners_input_path}/*.csv', format='csv')\n",
    "\n",
    "df_corners = df_corners.withColumn('HomeAway', when(df_corners['Fixture'].contains('- AW'), 'AWAY').otherwise('HOME'))\n",
    "\n",
    "df_corners = df_corners.withColumn('HomeTeam', split(df_corners['Fixture'], ' vs ')[0]) \\\n",
    "                       .withColumn('AwayTeam', split(df_corners['Fixture'], ' vs ')[1])\n",
    "\n",
    "\n",
    "#df_corners.show(5)\n",
    "df_corners.count()"
   ]
  },
  {
   "cell_type": "markdown",
   "metadata": {},
   "source": [
    "Filter to make new DF's"
   ]
  },
  {
   "cell_type": "code",
   "execution_count": 52,
   "metadata": {},
   "outputs": [
    {
     "name": "stdout",
     "output_type": "stream",
     "text": [
      "1509\n"
     ]
    }
   ],
   "source": [
    "df_corners_history = df_corners.select(df_corners[\"*\"]).where(    (df_corners['1HC_Res'].isNotNull())    )\n",
    "corners_history_ct = df_corners_history.count()\n",
    "print(corners_history_ct)"
   ]
  },
  {
   "cell_type": "code",
   "execution_count": 53,
   "metadata": {},
   "outputs": [
    {
     "name": "stdout",
     "output_type": "stream",
     "text": [
      "231\n"
     ]
    }
   ],
   "source": [
    "df_corners_history_aw = df_corners_history.select(df_corners_history[\"*\"]).where(    (df_corners_history['Fixture'].contains('- AW'))    )\n",
    "df_corners_history_aw_ct = df_corners_history_aw.count()\n",
    "print(df_corners_history_aw_ct)"
   ]
  },
  {
   "cell_type": "code",
   "execution_count": 54,
   "metadata": {},
   "outputs": [
    {
     "name": "stdout",
     "output_type": "stream",
     "text": [
      "20\n"
     ]
    }
   ],
   "source": [
    "df_corners_predict = df_corners.select(df_corners[\"*\"]).where(    (df_corners['1AC'].isNotNull()) & (df_corners['1AC_Res'].isNull())    )\n",
    "corners_predict_ct = df_corners_predict.count()\n",
    "print(corners_predict_ct)"
   ]
  },
  {
   "cell_type": "markdown",
   "metadata": {},
   "source": [
    "## Calculate the count of rows where the specified columns are equal to 0"
   ]
  },
  {
   "cell_type": "code",
   "execution_count": 55,
   "metadata": {},
   "outputs": [
    {
     "name": "stdout",
     "output_type": "stream",
     "text": [
      "Percentage of 1HC_Res zero: 9.675281643472498%\n",
      "Percentage of 1AC_Res zero: 15.838303512259774%\n",
      "Percentage of 2HC_Res zero: 8.28363154406892%\n",
      "Percentage of 2AC_Res zero: 12.856196156394963%\n",
      "Percentage of 1HC_Res and 1AC_Res both zero: 0.8614976805831678%\n",
      "Percentage of 2HC_Res and 2AC_Res both zero: 0.9277667329357191%\n",
      "Percentage of rows where 1HC_Res + 1AC_Res < 3: 15.440689198144467%\n",
      "Percentage of rows where 1HC_Res + 1AC_Res < 4: 24.652087475149106%\n"
     ]
    }
   ],
   "source": [
    "count_1HC_Res_0 = df_corners_history.filter(df_corners_history['1HC_Res'] == 0).count()\n",
    "count_1AC_Res_0 = df_corners_history.filter(df_corners_history['1AC_Res'] == 0).count()\n",
    "count_2HC_Res_0 = df_corners_history.filter(df_corners_history['2HC_Res'] == 0).count()\n",
    "count_2AC_Res_0 = df_corners_history.filter(df_corners_history['2AC_Res'] == 0).count()\n",
    "count_1HC_1AC_Res_0 = df_corners_history.filter((df_corners_history['1HC_Res'] == 0) & (df_corners_history['1AC_Res'] == 0)).count()\n",
    "count_2HC_2AC_Res_0 = df_corners_history.filter((df_corners_history['2HC_Res'] == 0) & (df_corners_history['2AC_Res'] == 0)).count()\n",
    "df_corners_history_filter_sum_less_3 = df_corners_history.filter((df_corners_history['1HC_Res'] + df_corners_history['1AC_Res']) < 3).count()\n",
    "df_corners_history_filter_sum_less_4 = df_corners_history.filter((df_corners_history['2HC_Res'] + df_corners_history['2AC_Res']) < 4).count()\n",
    "\n",
    "\n",
    "# Calculate the percentage\n",
    "perc_1HC_Res_0 = (count_1HC_Res_0 / corners_history_ct) * 100\n",
    "perc_1AC_Res_0 = (count_1AC_Res_0 / corners_history_ct) * 100\n",
    "perc_2HC_Res_0 = (count_2HC_Res_0 / corners_history_ct) * 100\n",
    "perc_2AC_Res_0 = (count_2AC_Res_0 / corners_history_ct) * 100\n",
    "perc_1HC_1AC_Res_0 = (count_1HC_1AC_Res_0 / corners_history_ct) * 100\n",
    "perc_2HC_2AC_Res_0 = (count_2HC_2AC_Res_0 / corners_history_ct) * 100\n",
    "perc_sum_less_3 = (df_corners_history_filter_sum_less_3 / corners_history_ct) * 100\n",
    "perc_sum_less_4 = (df_corners_history_filter_sum_less_4 / corners_history_ct) * 100\n",
    "\n",
    "\n",
    "print(f'Percentage of 1HC_Res zero: {perc_1HC_Res_0}%')\n",
    "print(f'Percentage of 1AC_Res zero: {perc_1AC_Res_0}%')\n",
    "print(f'Percentage of 2HC_Res zero: {perc_2HC_Res_0}%')\n",
    "print(f'Percentage of 2AC_Res zero: {perc_2AC_Res_0}%')\n",
    "print(f'Percentage of 1HC_Res and 1AC_Res both zero: {perc_1HC_1AC_Res_0}%')\n",
    "print(f'Percentage of 2HC_Res and 2AC_Res both zero: {perc_2HC_2AC_Res_0}%')\n",
    "print(f'Percentage of rows where 1HC_Res + 1AC_Res < 3: {perc_sum_less_3}%')\n",
    "print(f'Percentage of rows where 1HC_Res + 1AC_Res < 4: {perc_sum_less_4}%')"
   ]
  },
  {
   "cell_type": "markdown",
   "metadata": {},
   "source": [
    "## Get Past Month History for re-use."
   ]
  },
  {
   "cell_type": "code",
   "execution_count": 56,
   "metadata": {},
   "outputs": [
    {
     "name": "stdout",
     "output_type": "stream",
     "text": [
      "93\n"
     ]
    }
   ],
   "source": [
    "# Filter data from the previous month\n",
    "df_corners_history_prev_month = df_corners_history.filter(df_corners_history['InsertDate'] >= date_sub(current_date(), 15))\n",
    "df_corners_history_prev_month_ct = df_corners_history_prev_month.count()\n",
    "print(df_corners_history_prev_month_ct)"
   ]
  },
  {
   "cell_type": "code",
   "execution_count": 57,
   "metadata": {},
   "outputs": [],
   "source": [
    "# Select the relevant columns for home and away DataFrames\n",
    "df_corners_history_home = df_corners_history_prev_month.select('HomeTeam','1HC','1AC','2HC','2AC','1HCA','1ACA','2HCA','2ACA')\n",
    "df_corners_history_away = df_corners_history_prev_month.select('AwayTeam','1HC','1AC','2HC','2AC','1HCA','1ACA','2HCA','2ACA')\n",
    "\n",
    "# Replace 1AC contents with '-'\n",
    "df_corners_history_home = df_corners_history_home.withColumn('1AC', lit('-'))\n",
    "df_corners_history_home = df_corners_history_home.withColumn('2AC', lit('-'))\n",
    "df_corners_history_home = df_corners_history_home.withColumn('1ACA', lit('-'))\n",
    "df_corners_history_home = df_corners_history_home.withColumn('2ACA', lit('-'))\n",
    "\n",
    "df_corners_history_away = df_corners_history_away.withColumn('1HC', lit('-'))\n",
    "df_corners_history_away = df_corners_history_away.withColumn('2HC', lit('-'))\n",
    "df_corners_history_away = df_corners_history_away.withColumn('1HCA', lit('-'))\n",
    "df_corners_history_away = df_corners_history_away.withColumn('2HCA', lit('-'))"
   ]
  },
  {
   "cell_type": "markdown",
   "metadata": {},
   "source": [
    "## Train and export predictions using sklearn"
   ]
  },
  {
   "cell_type": "code",
   "execution_count": 58,
   "metadata": {},
   "outputs": [
    {
     "name": "stdout",
     "output_type": "stream",
     "text": [
      "Prediction dataset with results saved successfully!\n"
     ]
    }
   ],
   "source": [
    "get_corner_predictions(df_corners_history.toPandas(),df_corners_predict.toPandas())"
   ]
  },
  {
   "cell_type": "code",
   "execution_count": 59,
   "metadata": {},
   "outputs": [
    {
     "name": "stdout",
     "output_type": "stream",
     "text": [
      "255\n",
      "16.898608349900595\n"
     ]
    }
   ],
   "source": [
    "df_corners_history_more_two = df_corners_history.select(df_corners[\"*\"]).where(    (df_corners['WinOverTwo'] == 1)    )\n",
    "corners_history_more_two_ct = df_corners_history_more_two.count()\n",
    "print(corners_history_more_two_ct)\n",
    "print(corners_history_more_two_ct/corners_history_ct*100)"
   ]
  },
  {
   "cell_type": "code",
   "execution_count": 60,
   "metadata": {},
   "outputs": [],
   "source": [
    "avg_cols = {'1HC': 'avg', '1AC': 'avg', '2HC': 'avg', '2AC': 'avg', '1HCA': 'avg', '1ACA': 'avg', '2HCA': 'avg', '2ACA': 'avg', 'PastForTotal': 'avg', 'PastAgainstTotal': 'avg' }\n",
    "\n",
    "df_corners_history_more_two_avg = df_corners_history_more_two.agg(avg_cols)\n",
    "df_c2 = df_corners_history_more_two_avg\n",
    "\n",
    "#df_corners_history_more_two_avg.select(df_c2['avg(1HC)'],df_c2['avg(1AC)'],df_c2['avg(2HC)'],df_c2['avg(2AC)'],df_c2['avg(1HCA)'],df_c2['avg(1ACA)'],df_c2['avg(2HCA)'],df_c2['avg(2ACA)'],df_c2['avg(PastForTotal)'],df_c2['avg(PastAgainstTotal)']).show()"
   ]
  },
  {
   "cell_type": "markdown",
   "metadata": {},
   "source": [
    "## Predict over averages"
   ]
  },
  {
   "cell_type": "code",
   "execution_count": 61,
   "metadata": {},
   "outputs": [
    {
     "name": "stdout",
     "output_type": "stream",
     "text": [
      "avg_1HC - 2.55 / avg_1AC - 2.19 / avg_2HC - 2.74 / avg_2AC - 2.41 / avg_PastForTotal - 9.89 / avg_PastAgainstTotal - 9.57\n",
      "avg_1HCA - 2.01 / avg_1ACA - 2.47 / avg_2HCA - 2.30 / avg_2ACA - 2.79\n"
     ]
    }
   ],
   "source": [
    "row = df_corners_history_more_two_avg.first()\n",
    "perc = 0.9\n",
    "\n",
    "avg_1HC = Decimal(row['avg(1HC)'] * perc).quantize(Decimal(\"0.00\")) \n",
    "avg_1AC = Decimal(row['avg(1AC)'] * perc).quantize(Decimal(\"0.00\"))\n",
    "avg_2HC = Decimal(row['avg(2HC)'] * perc).quantize(Decimal(\"0.00\"))\n",
    "avg_2AC = Decimal(row['avg(2AC)'] * perc).quantize(Decimal(\"0.00\"))\n",
    "avg_1HCA = Decimal(row['avg(1HCA)'] * perc).quantize(Decimal(\"0.00\"))\n",
    "avg_1ACA = Decimal(row['avg(1ACA)'] * perc).quantize(Decimal(\"0.00\"))\n",
    "avg_2HCA = Decimal(row['avg(2HCA)'] * perc).quantize(Decimal(\"0.00\"))\n",
    "avg_2ACA = Decimal(row['avg(2ACA)'] * perc).quantize(Decimal(\"0.00\"))\n",
    "avg_PastForTotal = Decimal(row['avg(PastForTotal)'] * perc).quantize(Decimal(\"0.00\"))\n",
    "avg_PastAgainstTotal = Decimal(row['avg(PastAgainstTotal)'] * perc).quantize(Decimal(\"0.00\"))\n",
    "\n",
    "print(f'avg_1HC - {avg_1HC} / avg_1AC - {avg_1AC} / avg_2HC - {avg_2HC} / avg_2AC - {avg_2AC} / avg_PastForTotal - {avg_PastForTotal} / avg_PastAgainstTotal - {avg_PastAgainstTotal}')\n",
    "\n",
    "print(f'avg_1HCA - {avg_1HCA} / avg_1ACA - {avg_1ACA} / avg_2HCA - {avg_2HCA} / avg_2ACA - {avg_2ACA}')"
   ]
  },
  {
   "cell_type": "code",
   "execution_count": 62,
   "metadata": {},
   "outputs": [
    {
     "name": "stdout",
     "output_type": "stream",
     "text": [
      "2\n",
      "+-----+--------------------+----+----+----+----+-------+-------+-------+-------+----+----+----+----+----------+----------+------------+-------------+-------------+-------------+------------+----------------+----------------+-----------------+-----------+----------------+-----------------+---------------+----------------+--------------+----------------+---------------------+------------------+------------+-------------+-----------+------------+----------+----------+-----------+-----------+--------+------------+------------+\n",
      "|   ID|             Fixture| 1HC| 1AC| 2HC| 2AC|1HC_Res|1AC_Res|2HC_Res|2AC_Res|1HCA|1ACA|2HCA|2ACA|windrawwin|InsertDate|PastForFirst|PastForSecond|PastHomeTotal|PastAwayTotal|PastForTotal|PastAgainstTotal|ResultTotalFirst|ResultTotalSecond|ResultTotal|HistoryOverFirst|HistoryOverSecond|HistoryOverBoth|HistoryOverTotal|HistoryOverTwo|HistoryOverThree|HistoryAgainstOverTwo|HistoryOverTwoBoth|WinOverFirst|WinOverSecond|WinOverBoth|WinOverTotal|WinOverOne|WinOverTwo|WinMostHome|WinMostAway|HomeAway|    HomeTeam|    AwayTeam|\n",
      "+-----+--------------------+----+----+----+----+-------+-------+-------+-------+----+----+----+----+----------+----------+------------+-------------+-------------+-------------+------------+----------------+----------------+-----------------+-----------+----------------+-----------------+---------------+----------------+--------------+----------------+---------------------+------------------+------------+-------------+-----------+------------+----------+----------+-----------+-----------+--------+------------+------------+\n",
      "|4,708|FC Magdeburg vs H...|3.50|2.33|4.67|2.58|   NULL|   NULL|   NULL|   NULL|2.42|2.67|2.17|3.17|       1-2|2025-03-14|        5.83|         7.25|         8.17|         4.91|       13.08|           10.43|               0|                0|          0|               1|                1|              1|               1|             1|               0|                    1|                 1|           0|            0|          0|           0|         0|         0|          0|          0|    HOME|FC Magdeburg|Hamburger SV|\n",
      "|4,722|  Arsenal vs Chelsea|3.85|2.64|4.08|3.43|   NULL|   NULL|   NULL|   NULL|0.62|1.93|1.23|1.79|       2-1|2025-03-14|        6.49|         7.51|         7.93|         6.07|       14.00|            5.57|               0|                0|          0|               1|                1|              1|               1|             1|               1|                    0|                 0|           0|            0|          0|           0|         0|         0|          0|          0|    HOME|     Arsenal|     Chelsea|\n",
      "+-----+--------------------+----+----+----+----+-------+-------+-------+-------+----+----+----+----+----------+----------+------------+-------------+-------------+-------------+------------+----------------+----------------+-----------------+-----------+----------------+-----------------+---------------+----------------+--------------+----------------+---------------------+------------------+------------+-------------+-----------+------------+----------+----------+-----------+-----------+--------+------------+------------+\n",
      "\n"
     ]
    }
   ],
   "source": [
    "# (df_corners_history['1HCA'] > avg_1HCA) & (df_corners_history['1ACA'] > avg_1ACA) & (df_corners_history['2HCA'] > avg_2HCA) & (df_corners_history['2ACA'] > avg_2ACA)\n",
    "\n",
    "df_pick_over_pred = df_corners_predict.select(df_corners_history[\"*\"]).where(    (df_corners_history['1HC'] >= avg_1HC) & (df_corners_history['1AC'] >= avg_1AC) & (df_corners_history['2HC'] >= avg_2HC) & (df_corners_history['2AC'] >= avg_2AC)    )\n",
    "df_pick_over_pred_ct = df_pick_over_pred.count()\n",
    "print(df_pick_over_pred_ct)\n",
    "df_pick_over_pred.show()"
   ]
  },
  {
   "cell_type": "markdown",
   "metadata": {},
   "source": [
    "## Get historic teams with highest averages"
   ]
  },
  {
   "cell_type": "code",
   "execution_count": 63,
   "metadata": {},
   "outputs": [],
   "source": [
    "df_corners_history.createOrReplaceTempView(\"corners_split\")"
   ]
  },
  {
   "cell_type": "code",
   "execution_count": 83,
   "metadata": {},
   "outputs": [
    {
     "name": "stdout",
     "output_type": "stream",
     "text": [
      "{'West Brom': 'Hull City', 'SV Elversberg': 'Preussen Munster', 'Waalwijk': 'PSV Eindhoven', 'Heart OF Midlothian': 'Ross County', 'Kilmarnock': 'Hibernian', 'Arsenal': 'Chelsea', 'Fenerbahce': 'Samsunspor', 'Guimaraes': 'Estrela'}\n"
     ]
    }
   ],
   "source": [
    "fixtures = \"\"\"\n",
    "West Brom vs Hull City\n",
    "SV Elversberg vs Preussen Munster\n",
    "Waalwijk vs PSV Eindhoven\n",
    "Heart OF Midlothian vs Ross County\n",
    "Kilmarnock vs Hibernian\n",
    "Arsenal vs Chelsea\n",
    "Fenerbahce vs Samsunspor\n",
    "Guimaraes vs Estrela\n",
    "\"\"\"\n",
    "\n",
    "# Split the fixtures by ' vs ' and add to a dictionary\n",
    "fixtures_dict = {}\n",
    "for line in fixtures.strip().split('\\n'):\n",
    "    teams = line.split(' vs ')\n",
    "    if len(teams) == 2:\n",
    "        fixtures_dict[teams[0].strip()] = teams[1].strip()\n",
    "\n",
    "print(fixtures_dict)"
   ]
  },
  {
   "cell_type": "code",
   "execution_count": 84,
   "metadata": {},
   "outputs": [],
   "source": [
    "results = []\n",
    "\n",
    "for home_team, away_team in fixtures_dict.items():\n",
    "    df_compare = spark.sql(\n",
    "        f\"SELECT HomeTeam AS Team, COUNT(*) AS CT, avg(1HC_Res) AS 1HC_Res, avg(2HC_Res) AS 2HC_Res, \\\n",
    "        avg(1AC_Res) AS 1AC_Res, avg(2AC_Res) AS 2AC_Res, \\\n",
    "        avg(1HC_Res) + avg(2HC_Res) AS Tot, \\\n",
    "        avg(1HC) AS 1HC, avg(2HC) AS 2HC, avg(1HCA) AS 1HCA, avg(2HCA) AS 2HCA, \\\n",
    "        sum(WinOverFirst)/COUNT(*)*100 AS WinOverFirst,sum(WinOverBoth)/COUNT(*)*100 AS WinOverBoth,sum(WinOverTotal)/COUNT(*)*100 AS WinOverTotal, \\\n",
    "        sum(WinOverOne)/COUNT(*)*100 AS WinOverOne,sum(WinOverTwo)/COUNT(*)*100 AS WinOverTwo \\\n",
    "        FROM corners_split \\\n",
    "        WHERE ID LIKE '%,%' AND HomeTeam = '{home_team}' \\\n",
    "        GROUP BY HomeTeam \\\n",
    "        UNION ALL \\\n",
    "        SELECT AwayTeam AS Team, COUNT(*) AS CT, avg(1AC_Res) AS 1AC_Res, avg(2AC_Res) AS 2AC_Res, \\\n",
    "        avg(1HC_Res) AS 1HC_Res, avg(2HC_Res) AS 2HC_Res, \\\n",
    "        avg(1AC_Res) + avg(2AC_Res) AS Tot, \\\n",
    "        avg(1AC) AS 1AC, avg(2AC) AS 2AC, avg(1ACA) AS 1ACA, avg(2ACA) AS 2ACA, \\\n",
    "        sum(WinOverFirst)/COUNT(*)*100 AS WinOverFirst,sum(WinOverBoth)/COUNT(*)*100 AS WinOverBoth,sum(WinOverTotal)/COUNT(*)*100 AS WinOverTotal, \\\n",
    "        sum(WinOverOne)/COUNT(*)*100 AS WinOverOne,sum(WinOverTwo)/COUNT(*)*100 AS WinOverTwo \\\n",
    "        FROM corners_split \\\n",
    "        WHERE ID LIKE '%,%' AND AwayTeam = '{away_team}' \\\n",
    "        GROUP BY AwayTeam\"\n",
    "    )\n",
    "    results.append(df_compare)\n",
    "\n",
    "df_final_compare = results[0]\n",
    "for df in results[1:]:\n",
    "    df_final_compare = df_final_compare.union(df)\n",
    "\n",
    "df_final_compare.toPandas().to_excel('files/output/football/corners/_temp.xlsx', index=False)"
   ]
  },
  {
   "cell_type": "code",
   "execution_count": 86,
   "metadata": {},
   "outputs": [],
   "source": [
    "df_compare = spark.sql(\n",
    "    \"SELECT HomeTeam AS Team, COUNT(*) AS CT, avg(1HC_Res) AS 1HC_Res, avg(2HC_Res) AS 2HC_Res, \\\n",
    "    avg(1AC_Res) AS 1AC_Res, avg(2AC_Res) AS 2AC_Res, \\\n",
    "    avg(1HC_Res) + avg(2HC_Res) AS Tot, \\\n",
    "    avg(1HC) AS 1HC, avg(2HC) AS 2HC, avg(1HCA) AS 1HCA, avg(2HCA) AS 2HCA, \\\n",
    "    sum(WinOverFirst)/COUNT(*)*100 AS WinOverFirst,sum(WinOverBoth)/COUNT(*)*100 AS WinOverBoth,sum(WinOverTotal)/COUNT(*)*100 AS WinOverTotal, \\\n",
    "    sum(WinOverOne)/COUNT(*)*100 AS WinOverOne,sum(WinOverTwo)/COUNT(*)*100 AS WinOverTwo \\\n",
    "    FROM corners_split \\\n",
    "    WHERE ID LIKE '%,%' AND HomeTeam like '%Queen%' \\\n",
    "    GROUP BY HomeTeam \\\n",
    "    UNION ALL \\\n",
    "    SELECT AwayTeam AS Team, COUNT(*) AS CT, avg(1AC_Res) AS 1AC_Res, avg(2AC_Res) AS 2AC_Res, \\\n",
    "    avg(1HC_Res) AS 1HC_Res, avg(2HC_Res) AS 2HC_Res, \\\n",
    "    avg(1AC_Res) + avg(2AC_Res) AS Tot, \\\n",
    "    avg(1AC) AS 1AC, avg(2AC) AS 2AC, avg(1ACA) AS 1ACA, avg(2ACA) AS 2ACA, \\\n",
    "    sum(WinOverFirst)/COUNT(*)*100 AS WinOverFirst,sum(WinOverBoth)/COUNT(*)*100 AS WinOverBoth,sum(WinOverTotal)/COUNT(*)*100 AS WinOverTotal, \\\n",
    "    sum(WinOverOne)/COUNT(*)*100 AS WinOverOne,sum(WinOverTwo)/COUNT(*)*100 AS WinOverTwo \\\n",
    "    FROM corners_split \\\n",
    "    WHERE ID LIKE '%,%' AND AwayTeam = 'Falkirk - AW' \\\n",
    "    GROUP BY AwayTeam\"\n",
    "    )\n",
    "\n",
    "df_compare.toPandas().to_excel('files/output/football/corners/_temp.xlsx', index=False)"
   ]
  },
  {
   "cell_type": "code",
   "execution_count": 65,
   "metadata": {},
   "outputs": [],
   "source": [
    "games_count = 2"
   ]
  },
  {
   "cell_type": "code",
   "execution_count": 66,
   "metadata": {},
   "outputs": [],
   "source": [
    "df_corners_history_avg_home = spark.sql(\n",
    "    f\"SELECT 'avg_home' AS WhichTab, HomeTeam, MAX(ID) AS ID, COUNT(*) AS CT, avg(1HC_Res) AS 1HC_Res, avg(2HC_Res) AS 2HC_Res, \\\n",
    "    avg(1AC_Res) AS 1AC_Res, avg(2AC_Res) AS 2AC_Res, \\\n",
    "    avg(1HC_Res) + avg(2HC_Res) AS Tot, \\\n",
    "    avg(1HC) AS 1HC, avg(2HC) AS 2HC, avg(1HCA) AS 1HCA, avg(2HCA) AS 2HCA, \\\n",
    "    sum(WinOverFirst)/COUNT(*)*100 AS WinOverFirst,sum(WinOverBoth)/COUNT(*)*100 AS WinOverBoth,sum(WinOverTotal)/COUNT(*)*100 AS WinOverTotal, \\\n",
    "    sum(WinOverOne)/COUNT(*)*100 AS WinOverOne,sum(WinOverTwo)/COUNT(*)*100 AS WinOverTwo \\\n",
    "    FROM corners_split \\\n",
    "    WHERE ID LIKE '%,%' \\\n",
    "    GROUP BY HomeTeam \\\n",
    "    HAVING CT > {games_count} AND Tot >= 5.0 \\\n",
    "    ORDER BY Tot DESC\"\n",
    "    )#.show(20)"
   ]
  },
  {
   "cell_type": "code",
   "execution_count": 67,
   "metadata": {},
   "outputs": [],
   "source": [
    "df_corners_history_avg_away_fav = spark.sql(\n",
    "    f\"SELECT 'avg_away_fav' AS WhichTab, AwayTeam, MAX(ID) AS ID, COUNT(*) AS CT, avg(1AC_Res) AS 1AC_Res, avg(2AC_Res) AS 2AC_Res, \\\n",
    "    avg(1HC_Res) AS 1HC_Res, avg(2HC_Res) AS 2HC_Res, \\\n",
    "    avg(1AC_Res) + avg(2AC_Res) AS Tot, \\\n",
    "    avg(1AC) AS 1AC, avg(2AC) AS 2AC, avg(1ACA) AS 1ACA, avg(2ACA) AS 2ACA, \\\n",
    "    sum(WinOverFirst)/COUNT(*)*100 AS WinOverFirst,sum(WinOverBoth)/COUNT(*)*100 AS WinOverBoth,sum(WinOverTotal)/COUNT(*)*100 AS WinOverTotal, \\\n",
    "    sum(WinOverOne)/COUNT(*)*100 AS WinOverOne,sum(WinOverTwo)/COUNT(*)*100 AS WinOverTwo \\\n",
    "    FROM corners_split \\\n",
    "    WHERE ID LIKE '%,%' AND FIXTURE LIKE '%- AW' \\\n",
    "    GROUP BY AwayTeam \\\n",
    "    HAVING CT > 2 AND Tot >= 5.0 \\\n",
    "    ORDER BY Tot DESC\"\n",
    "    )#.show(20)"
   ]
  },
  {
   "cell_type": "code",
   "execution_count": 68,
   "metadata": {},
   "outputs": [],
   "source": [
    "df_corners_history_avg_away = spark.sql(\n",
    "    f\"SELECT 'avg_away' AS WhichTab, AwayTeam, MAX(ID) AS ID, COUNT(*) AS CT, avg(1AC_Res) AS 1AC_Res, avg(2AC_Res) AS 2AC_Res, \\\n",
    "    avg(1HC_Res) AS 1HC_Res, avg(2HC_Res) AS 2HC_Res, \\\n",
    "    avg(1AC_Res) + avg(2AC_Res) AS Tot, \\\n",
    "    avg(1AC) AS 1AC, avg(2AC) AS 2AC, avg(1ACA) AS 1ACA, avg(2ACA) AS 2ACA, \\\n",
    "    sum(WinOverFirst)/COUNT(*)*100 AS WinOverFirst,sum(WinOverBoth)/COUNT(*)*100 AS WinOverBoth,sum(WinOverTotal)/COUNT(*)*100 AS WinOverTotal, \\\n",
    "    sum(WinOverOne)/COUNT(*)*100 AS WinOverOne,sum(WinOverTwo)/COUNT(*)*100 AS WinOverTwo \\\n",
    "    FROM corners_split \\\n",
    "    WHERE ID LIKE '%,%' \\\n",
    "    GROUP BY AwayTeam \\\n",
    "    HAVING CT > {games_count} AND Tot >= 5.0 \\\n",
    "    ORDER BY Tot DESC\"\n",
    "    )#.show(20)"
   ]
  },
  {
   "cell_type": "markdown",
   "metadata": {},
   "source": [
    "## Lookup predictions against past high avgs"
   ]
  },
  {
   "cell_type": "code",
   "execution_count": 69,
   "metadata": {},
   "outputs": [
    {
     "name": "stdout",
     "output_type": "stream",
     "text": [
      "+-----+--------------------+----+----+----+----+-------+-------+-------+-------+----+----+----+----+----------+----------+------------+-------------+-------------+-------------+------------+----------------+----------------+-----------------+-----------+----------------+-----------------+---------------+----------------+--------------+----------------+---------------------+------------------+------------+-------------+-----------+------------+----------+----------+-----------+-----------+--------+-------------------+----------------+------------+-------------------+-----+---+------------------+------------------+------------------+------------------+-----------------+------------------+------------------+------------------+------------------+-----------------+-----------------+-----------------+-----------------+-----------------+\n",
      "|   ID|             Fixture| 1HC| 1AC| 2HC| 2AC|1HC_Res|1AC_Res|2HC_Res|2AC_Res|1HCA|1ACA|2HCA|2ACA|windrawwin|InsertDate|PastForFirst|PastForSecond|PastHomeTotal|PastAwayTotal|PastForTotal|PastAgainstTotal|ResultTotalFirst|ResultTotalSecond|ResultTotal|HistoryOverFirst|HistoryOverSecond|HistoryOverBoth|HistoryOverTotal|HistoryOverTwo|HistoryOverThree|HistoryAgainstOverTwo|HistoryOverTwoBoth|WinOverFirst|WinOverSecond|WinOverBoth|WinOverTotal|WinOverOne|WinOverTwo|WinMostHome|WinMostAway|HomeAway|           HomeTeam|        AwayTeam|    WhichTab|           HomeTeam|   ID| CT|           1HC_Res|           2HC_Res|           1AC_Res|           2AC_Res|              Tot|               1HC|               2HC|              1HCA|              2HCA|     WinOverFirst|      WinOverBoth|     WinOverTotal|       WinOverOne|       WinOverTwo|\n",
      "+-----+--------------------+----+----+----+----+-------+-------+-------+-------+----+----+----+----+----------+----------+------------+-------------+-------------+-------------+------------+----------------+----------------+-----------------+-----------+----------------+-----------------+---------------+----------------+--------------+----------------+---------------------+------------------+------------+-------------+-----------+------------+----------+----------+-----------+-----------+--------+-------------------+----------------+------------+-------------------+-----+---+------------------+------------------+------------------+------------------+-----------------+------------------+------------------+------------------+------------------+-----------------+-----------------+-----------------+-----------------+-----------------+\n",
      "|4,708|FC Magdeburg vs H...|3.50|2.33|4.67|2.58|   NULL|   NULL|   NULL|   NULL|2.42|2.67|2.17|3.17|       1-2|2025-03-14|        5.83|         7.25|         8.17|         4.91|       13.08|           10.43|               0|                0|          0|               1|                1|              1|               1|             1|               0|                    1|                 1|           0|            0|          0|           0|         0|         0|          0|          0|    HOME|       FC Magdeburg|    Hamburger SV|    avg_home|       FC Magdeburg|4,499|  3|2.3333333333333335| 5.333333333333333| 4.666666666666667|2.6666666666666665|7.666666666666666|3.7533333333333334| 4.343333333333334|1.6600000000000001|              2.08|66.66666666666666|66.66666666666666|            100.0|            100.0|33.33333333333333|\n",
      "|4,710|Blackburn vs Cardiff|3.11|1.78|2.44|1.72|   NULL|   NULL|   NULL|   NULL|2.11|2.89|2.56|2.56|       2-0|2025-03-14|        4.89|         4.16|         5.55|         3.50|        9.05|           10.12|               0|                0|          0|               1|                0|              0|               1|             0|               0|                    1|                 0|           0|            0|          0|           0|         0|         0|          0|          0|    HOME|          Blackburn|         Cardiff|    avg_home|          Blackburn|4,322|  3|               3.0|2.3333333333333335|3.3333333333333335|               1.0|5.333333333333334|2.9266666666666663|2.6199999999999997|2.3266666666666667|              2.77|            100.0|33.33333333333333|66.66666666666666|66.66666666666666|              0.0|\n",
      "|4,712|West Brom vs Hull...|3.78|2.00|3.61|1.78|   NULL|   NULL|   NULL|   NULL|1.89|3.78|1.67| 2.5|       1-0|2025-03-14|        5.78|         5.39|         7.39|         3.78|       11.17|            9.84|               0|                0|          0|               1|                1|              1|               1|             0|               0|                    0|                 0|           0|            0|          0|           0|         0|         0|          0|          0|    HOME|          West Brom|       Hull City|    avg_home|          West Brom|4,580|  5|               5.2|               5.6|               0.4|               0.8|             10.8|3.5200000000000005|             3.272|2.1239999999999997|1.8619999999999997|             60.0|             40.0|             80.0|             20.0|              0.0|\n",
      "|4,713|SV Elversberg vs ...|3.15|1.83|3.54|2.25|   NULL|   NULL|   NULL|   NULL|2.85|2.92|   3|3.83|       3-1|2025-03-14|        4.98|         5.79|         6.69|         4.08|       10.77|           12.60|               0|                0|          0|               1|                1|              1|               1|             0|               0|                    1|                 0|           0|            0|          0|           0|         0|         0|          0|          0|    HOME|      SV Elversberg|Preussen Munster|    avg_home|      SV Elversberg|4,323|  3|3.3333333333333335|2.3333333333333335|               2.0|1.6666666666666667|5.666666666666667| 3.043333333333333|3.8266666666666667|2.9800000000000004|3.4633333333333334|66.66666666666666|33.33333333333333|66.66666666666666|66.66666666666666|33.33333333333333|\n",
      "|4,715|Waalwijk vs PSV E...|2.67|2.92|2.58|3.25|   NULL|   NULL|   NULL|   NULL|2.92| 1.5|3.42|1.92|       1-3|2025-03-14|        5.59|         5.83|         5.25|         6.17|       11.42|            9.76|               0|                0|          0|               1|                1|              1|               1|             1|               1|                    0|                 0|           0|            0|          0|           0|         0|         0|          0|          0|    HOME|           Waalwijk|   PSV Eindhoven|    avg_home|           Waalwijk|4,621|  3|3.3333333333333335|               4.0|1.3333333333333333|1.6666666666666667|7.333333333333334|              2.36|2.1999999999999997| 3.376666666666667| 3.896666666666667|66.66666666666666|66.66666666666666|            100.0|66.66666666666666|33.33333333333333|\n",
      "|4,716|Heart OF Midlothi...|3.57|2.07|3.29|2.00|   NULL|   NULL|   NULL|   NULL|2.07|3.07|2.64|5.21|       2-0|2025-03-14|        5.64|         5.29|         6.86|         4.07|       10.93|           12.99|               0|                0|          0|               1|                1|              1|               1|             1|               0|                    1|                 1|           0|            0|          0|           0|         0|         0|          0|          0|    HOME|Heart OF Midlothian|     Ross County|    avg_home|Heart OF Midlothian|4,282|  3|3.3333333333333335|3.6666666666666665|2.3333333333333335|2.3333333333333335|              7.0|              3.36| 3.426666666666667|1.9033333333333333|2.3333333333333335|            100.0|66.66666666666666|            100.0|33.33333333333333|              0.0|\n",
      "|4,717|Kilmarnock vs Hib...|3.07|2.79|2.64|3.00|   NULL|   NULL|   NULL|   NULL|2.07|   2|2.14|2.86|       0-1|2025-03-14|        5.86|         5.64|         5.71|         5.79|       11.50|            9.07|               0|                0|          0|               1|                1|              1|               1|             1|               1|                    1|                 1|           0|            0|          0|           0|         0|         0|          0|          0|    HOME|         Kilmarnock|       Hibernian|    avg_home|         Kilmarnock|4,613|  5|               4.4|               3.4|               1.8|               1.6|7.800000000000001|             2.216|2.6699999999999995|             2.098|2.3180000000000005|             80.0|             40.0|             80.0|             60.0|              0.0|\n",
      "|4,720|Queen's Park vs F...|3.36|3.36|2.50|4.57|   NULL|   NULL|   NULL|   NULL|2.43|1.21|2.86|2.14|       0-1|2025-03-14|        6.72|         7.07|         5.86|         7.93|       13.79|            8.64|               0|                0|          0|               1|                1|              1|               1|             1|               1|                    0|                 0|           0|            0|          0|           0|         0|         0|          0|          0|    AWAY|       Queen's Park|    Falkirk - AW|    avg_home|       Queen's Park|4,695|  4|               3.5|               3.0|               3.0|               1.5|              6.5|             3.385|            2.5725|2.3775000000000004|            3.0225|             75.0|             25.0|             75.0|             75.0|              0.0|\n",
      "|4,722|  Arsenal vs Chelsea|3.85|2.64|4.08|3.43|   NULL|   NULL|   NULL|   NULL|0.62|1.93|1.23|1.79|       2-1|2025-03-14|        6.49|         7.51|         7.93|         6.07|       14.00|            5.57|               0|                0|          0|               1|                1|              1|               1|             1|               1|                    0|                 0|           0|            0|          0|           0|         0|         0|          0|          0|    HOME|            Arsenal|         Chelsea|    avg_home|            Arsenal|4,375|  3|               4.0| 4.666666666666667|               2.0|0.3333333333333333|8.666666666666668|              4.12| 4.413333333333334|0.4033333333333333|1.5233333333333334|66.66666666666666|33.33333333333333|66.66666666666666|33.33333333333333|              0.0|\n",
      "|4,726|Fenerbahce vs Sam...|3.50|1.77|4.75|2.31|   NULL|   NULL|   NULL|   NULL|1.58|   2|0.92|   2|       2-0|2025-03-14|        5.27|         7.06|         8.25|         4.08|       12.33|            6.50|               0|                0|          0|               1|                1|              1|               1|             0|               0|                    0|                 0|           0|            0|          0|           0|         0|         0|          0|          0|    HOME|         Fenerbahce|      Samsunspor|    avg_home|         Fenerbahce|4,542|  3|2.6666666666666665|3.3333333333333335|1.3333333333333333|0.3333333333333333|              6.0|              3.19| 4.306666666666666|2.5400000000000005|1.8966666666666665|66.66666666666666|33.33333333333333|33.33333333333333|              0.0|              0.0|\n",
      "|4,727|Guimaraes vs Estrela|3.75|2.42|3.50|1.67|   NULL|   NULL|   NULL|   NULL|1.42|2.25|2.17|4.58|       2-0|2025-03-14|        6.17|         5.17|         7.25|         4.09|       11.34|           10.42|               0|                0|          0|               1|                1|              1|               1|             0|               0|                    0|                 0|           0|            0|          0|           0|         0|         0|          0|          0|    HOME|          Guimaraes|         Estrela|    avg_home|          Guimaraes|4,217|  3| 4.333333333333333|               3.0|               1.0|1.6666666666666667|7.333333333333333|3.8200000000000003|3.2833333333333337|1.6766666666666667|2.4099999999999997|66.66666666666666|33.33333333333333|33.33333333333333|33.33333333333333|              0.0|\n",
      "|4,720|Queen's Park vs F...|3.36|3.36|2.50|4.57|   NULL|   NULL|   NULL|   NULL|2.43|1.21|2.86|2.14|       0-1|2025-03-14|        6.72|         7.07|         5.86|         7.93|       13.79|            8.64|               0|                0|          0|               1|                1|              1|               1|             1|               1|                    0|                 0|           0|            0|          0|           0|         0|         0|          0|          0|    AWAY|       Queen's Park|    Falkirk - AW|avg_away_fav|       Falkirk - AW|4,639|  3|               3.0| 6.666666666666667|               1.0|1.6666666666666667|9.666666666666668|3.1033333333333335| 4.053333333333334| 1.343333333333333|2.1033333333333335|66.66666666666666|66.66666666666666|            100.0|66.66666666666666|              0.0|\n",
      "|4,720|Queen's Park vs F...|3.36|3.36|2.50|4.57|   NULL|   NULL|   NULL|   NULL|2.43|1.21|2.86|2.14|       0-1|2025-03-14|        6.72|         7.07|         5.86|         7.93|       13.79|            8.64|               0|                0|          0|               1|                1|              1|               1|             1|               1|                    0|                 0|           0|            0|          0|           0|         0|         0|          0|          0|    AWAY|       Queen's Park|    Falkirk - AW|    avg_away|       Falkirk - AW|4,639|  3|               3.0| 6.666666666666667|               1.0|1.6666666666666667|9.666666666666668|3.1033333333333335| 4.053333333333334| 1.343333333333333|2.1033333333333335|66.66666666666666|66.66666666666666|            100.0|66.66666666666666|              0.0|\n",
      "+-----+--------------------+----+----+----+----+-------+-------+-------+-------+----+----+----+----+----------+----------+------------+-------------+-------------+-------------+------------+----------------+----------------+-----------------+-----------+----------------+-----------------+---------------+----------------+--------------+----------------+---------------------+------------------+------------+-------------+-----------+------------+----------+----------+-----------+-----------+--------+-------------------+----------------+------------+-------------------+-----+---+------------------+------------------+------------------+------------------+-----------------+------------------+------------------+------------------+------------------+-----------------+-----------------+-----------------+-----------------+-----------------+\n",
      "\n"
     ]
    }
   ],
   "source": [
    "df_intersect_home = df_corners_predict.join(df_corners_history_avg_home, df_corners_predict.HomeTeam == df_corners_history_avg_home.HomeTeam, 'inner')\n",
    "df_intersect_away_fav = df_corners_predict.join(df_corners_history_avg_away_fav, df_corners_predict.AwayTeam == df_corners_history_avg_away_fav.AwayTeam, 'inner')\n",
    "df_intersect_away = df_corners_predict.join(df_corners_history_avg_away, df_corners_predict.AwayTeam == df_corners_history_avg_away.AwayTeam, 'inner')\n",
    "\n",
    "df_intersect = df_intersect_home.union(df_intersect_away_fav).union(df_intersect_away)\n",
    "df_intersect.show()"
   ]
  },
  {
   "cell_type": "markdown",
   "metadata": {},
   "source": [
    "## Write to excel"
   ]
  },
  {
   "cell_type": "code",
   "execution_count": 70,
   "metadata": {},
   "outputs": [],
   "source": [
    "with pd.ExcelWriter(f'{configuration.football_corners_output_path}/corners.xlsx') as writer:  \n",
    "     \n",
    "     df_corners_history_avg_home.toPandas().to_excel(writer, sheet_name=f'df_corners_history_avg_home', index=False)\n",
    "     df_corners_history_avg_away_fav.toPandas().to_excel(writer, sheet_name=f'df_corners_history_avg_away_fav', index=False)\n",
    "     df_corners_history_avg_away.toPandas().to_excel(writer, sheet_name=f'df_corners_history_avg_away', index=False)\n",
    "     df_intersect.toPandas().to_excel(writer, sheet_name=f'df_intersect', index=False)\n",
    "     \n",
    "     df_corners_history_more_two_avg.toPandas().to_excel(writer, sheet_name=f'over_two_avg', index=False)\n",
    "     df_pick_over_pred.toPandas().to_excel(writer, sheet_name=f'pick_over_pred - {perc}%', index=False)\n",
    "     df_corners_history_more_two.toPandas().to_excel(writer, sheet_name=f'history_more_two', index=False)\n",
    "\n",
    "     #df_corners_history_home.toPandas().to_excel(writer, sheet_name=f'df_corners_history_home', index=False)\n",
    "     #df_corners_history_away.toPandas().to_excel(writer, sheet_name=f'df_corners_history_away', index=False) \n"
   ]
  },
  {
   "cell_type": "markdown",
   "metadata": {},
   "source": [
    "## Make Picks from - df_corners_predict"
   ]
  },
  {
   "cell_type": "code",
   "execution_count": 71,
   "metadata": {},
   "outputs": [],
   "source": [
    "df_temp_table = df_corners_history.select(df_corners[\"*\"]).where(    (df_corners['windrawwin'].isNotNull())   )"
   ]
  },
  {
   "cell_type": "code",
   "execution_count": 72,
   "metadata": {},
   "outputs": [],
   "source": [
    "df_temp_table.createOrReplaceTempView(\"corners\")\n",
    "df_corners_predict.createOrReplaceTempView(\"corners_predict\")"
   ]
  },
  {
   "cell_type": "code",
   "execution_count": 73,
   "metadata": {},
   "outputs": [],
   "source": [
    "what_to_predict = 'WinOverFirst'"
   ]
  },
  {
   "cell_type": "code",
   "execution_count": 74,
   "metadata": {},
   "outputs": [
    {
     "name": "stdout",
     "output_type": "stream",
     "text": [
      "avg_1HC: 2.74, avg_1AC: 2.23, avg_2HC: 3.04, avg_2AC: 2.55\n",
      "avg_1HCA: 2.22, avg_1ACA: 2.64, avg_2HCA: 2.51, avg_2ACA: 3.01\n",
      "avg_PastForTotal: 10.57, avg_PastAgainstTotal: 10.38\n"
     ]
    }
   ],
   "source": [
    "result = spark.sql(f\"SELECT avg(1HC) as avg_1HC, avg(1AC) as avg_1AC, avg(2HC) as avg_2HC, avg(2AC) as avg_2AC, avg(1HCA) as avg_1HCA, avg(1ACA) as avg_1ACA, avg(2HCA) as avg_2HCA, avg(2ACA) as avg_2ACA, avg(PastForTotal) as avg_PastForTotal, avg(PastAgainstTotal) as avg_PastAgainstTotal, SUM({what_to_predict})/count(*)*100 AS PERC FROM corners\").first()\n",
    "\n",
    "avg_1HC = Decimal(result['avg_1HC']).quantize(Decimal(\"0.00\"))\n",
    "avg_1AC = Decimal(result['avg_1AC']).quantize(Decimal(\"0.00\"))\n",
    "avg_2HC = Decimal(result['avg_2HC']).quantize(Decimal(\"0.00\"))\n",
    "avg_2AC = Decimal(result['avg_2AC']).quantize(Decimal(\"0.00\"))\n",
    "avg_1HCA = Decimal(result['avg_1HCA']).quantize(Decimal(\"0.00\"))\n",
    "avg_1ACA = Decimal(result['avg_1ACA']).quantize(Decimal(\"0.00\"))\n",
    "avg_2HCA = Decimal(result['avg_2HCA']).quantize(Decimal(\"0.00\"))\n",
    "avg_2ACA = Decimal(result['avg_2ACA']).quantize(Decimal(\"0.00\"))\n",
    "avg_PastForTotal = Decimal(result['avg_PastForTotal']).quantize(Decimal(\"0.00\"))\n",
    "avg_PastAgainstTotal = Decimal(result['avg_PastAgainstTotal']).quantize(Decimal(\"0.00\"))\n",
    "\n",
    "print(f'avg_1HC: {avg_1HC}, avg_1AC: {avg_1AC}, avg_2HC: {avg_2HC}, avg_2AC: {avg_2AC}')\n",
    "print(f'avg_1HCA: {avg_1HCA}, avg_1ACA: {avg_1ACA}, avg_2HCA: {avg_2HCA}, avg_2ACA: {avg_2ACA}')\n",
    "print(f'avg_PastForTotal: {avg_PastForTotal}, avg_PastAgainstTotal: {avg_PastAgainstTotal}')"
   ]
  },
  {
   "cell_type": "code",
   "execution_count": 75,
   "metadata": {},
   "outputs": [
    {
     "name": "stdout",
     "output_type": "stream",
     "text": [
      "+--------+----------+-----------------+---+-----------------+\n",
      "|HomeAway|windrawwin|sum(WinOverFirst)|TOT|             PERC|\n",
      "+--------+----------+-----------------+---+-----------------+\n",
      "|    AWAY|       1-3|             12.0| 14|85.71428571428571|\n",
      "+--------+----------+-----------------+---+-----------------+\n",
      "\n"
     ]
    }
   ],
   "source": [
    "spark.sql(f\"SELECT HomeAway,windrawwin,SUM({what_to_predict}),count(*) AS TOT,SUM({what_to_predict})/count(*)*100 AS PERC FROM corners GROUP BY HomeAway,windrawwin HAVING PERC > 85 AND TOT > 10 ORDER BY PERC DESC\").show()"
   ]
  },
  {
   "cell_type": "code",
   "execution_count": 76,
   "metadata": {},
   "outputs": [
    {
     "name": "stdout",
     "output_type": "stream",
     "text": [
      "+---+-------+---+---+---+---+-------+-------+-------+-------+----+----+----+----+----------+----------+------------+-------------+-------------+-------------+------------+----------------+----------------+-----------------+-----------+----------------+-----------------+---------------+----------------+--------------+----------------+---------------------+------------------+------------+-------------+-----------+------------+----------+----------+-----------+-----------+--------+--------+--------+\n",
      "| ID|Fixture|1HC|1AC|2HC|2AC|1HC_Res|1AC_Res|2HC_Res|2AC_Res|1HCA|1ACA|2HCA|2ACA|windrawwin|InsertDate|PastForFirst|PastForSecond|PastHomeTotal|PastAwayTotal|PastForTotal|PastAgainstTotal|ResultTotalFirst|ResultTotalSecond|ResultTotal|HistoryOverFirst|HistoryOverSecond|HistoryOverBoth|HistoryOverTotal|HistoryOverTwo|HistoryOverThree|HistoryAgainstOverTwo|HistoryOverTwoBoth|WinOverFirst|WinOverSecond|WinOverBoth|WinOverTotal|WinOverOne|WinOverTwo|WinMostHome|WinMostAway|HomeAway|HomeTeam|AwayTeam|\n",
      "+---+-------+---+---+---+---+-------+-------+-------+-------+----+----+----+----+----------+----------+------------+-------------+-------------+-------------+------------+----------------+----------------+-----------------+-----------+----------------+-----------------+---------------+----------------+--------------+----------------+---------------------+------------------+------------+-------------+-----------+------------+----------+----------+-----------+-----------+--------+--------+--------+\n",
      "+---+-------+---+---+---+---+-------+-------+-------+-------+----+----+----+----+----------+----------+------------+-------------+-------------+-------------+------------+----------------+----------------+-----------------+-----------+----------------+-----------------+---------------+----------------+--------------+----------------+---------------------+------------------+------------+-------------+-----------+------------+----------+----------+-----------+-----------+--------+--------+--------+\n",
      "\n"
     ]
    }
   ],
   "source": [
    "spark.sql(f\"SELECT * FROM corners_predict WHERE windrawwin IN ('2-2') AND HomeAway = 'AWAY' AND 1HC >= {avg_1HC}*0.8 AND 1AC >= {avg_1AC}*0.8\").show(50)"
   ]
  }
 ],
 "metadata": {
  "kernelspec": {
   "display_name": "vscode_pyspark",
   "language": "python",
   "name": "vscode_pyspark"
  },
  "language_info": {
   "codemirror_mode": {
    "name": "ipython",
    "version": 3
   },
   "file_extension": ".py",
   "mimetype": "text/x-python",
   "name": "python",
   "nbconvert_exporter": "python",
   "pygments_lexer": "ipython3",
   "version": "3.12.9"
  }
 },
 "nbformat": 4,
 "nbformat_minor": 2
}
