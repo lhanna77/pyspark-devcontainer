{
 "cells": [
  {
   "cell_type": "code",
   "execution_count": 1,
   "metadata": {
    "execution": {
     "iopub.execute_input": "2025-02-08T12:22:38.027990Z",
     "iopub.status.busy": "2025-02-08T12:22:38.027253Z",
     "iopub.status.idle": "2025-02-08T12:22:41.067252Z",
     "shell.execute_reply": "2025-02-08T12:22:41.066145Z"
    }
   },
   "outputs": [],
   "source": [
    "\n",
    "from pyspark.sql.functions import count, date_sub, current_date, split, lit\n",
    "import pandas as pd\n",
    "from decimal import Decimal\n",
    "from lib import common_functions\n",
    "from lib import configuration\n",
    "#from lib.predict_corners import get_corner_predictions\n",
    "\n",
    "from my_predictive_model.src.predict import get_corner_predictions"
   ]
  },
  {
   "cell_type": "code",
   "execution_count": 2,
   "metadata": {
    "execution": {
     "iopub.execute_input": "2025-02-08T12:22:41.071812Z",
     "iopub.status.busy": "2025-02-08T12:22:41.071375Z",
     "iopub.status.idle": "2025-02-08T12:22:46.009993Z",
     "shell.execute_reply": "2025-02-08T12:22:46.008168Z"
    }
   },
   "outputs": [
    {
     "data": {
      "text/html": [
       "\n",
       "            <div>\n",
       "                <p><b>SparkSession - in-memory</b></p>\n",
       "                \n",
       "        <div>\n",
       "            <p><b>SparkContext</b></p>\n",
       "\n",
       "            <p><a href=\"http://eae966a0cf95:4040\">Spark UI</a></p>\n",
       "\n",
       "            <dl>\n",
       "              <dt>Version</dt>\n",
       "                <dd><code>v3.5.0</code></dd>\n",
       "              <dt>Master</dt>\n",
       "                <dd><code>local[*]</code></dd>\n",
       "              <dt>AppName</dt>\n",
       "                <dd><code>corners</code></dd>\n",
       "            </dl>\n",
       "        </div>\n",
       "        \n",
       "            </div>\n",
       "        "
      ],
      "text/plain": [
       "<pyspark.sql.session.SparkSession at 0x7ff307c94510>"
      ]
     },
     "execution_count": 2,
     "metadata": {},
     "output_type": "execute_result"
    }
   ],
   "source": [
    "spark = common_functions.get_spark_session('corners')\n",
    "spark.active()"
   ]
  },
  {
   "cell_type": "code",
   "execution_count": 3,
   "metadata": {
    "execution": {
     "iopub.execute_input": "2025-02-08T12:22:46.073064Z",
     "iopub.status.busy": "2025-02-08T12:22:46.071355Z",
     "iopub.status.idle": "2025-02-08T12:22:52.843890Z",
     "shell.execute_reply": "2025-02-08T12:22:52.842367Z"
    }
   },
   "outputs": [
    {
     "data": {
      "text/plain": [
       "1364"
      ]
     },
     "execution_count": 3,
     "metadata": {},
     "output_type": "execute_result"
    }
   ],
   "source": [
    "df_corners = spark.read.option(\"header\", True).load(f'{configuration.football_corners_input_path}/*.csv', format='csv')\n",
    "#df_corners.show()\n",
    "df_corners.count()"
   ]
  },
  {
   "cell_type": "markdown",
   "metadata": {},
   "source": [
    "Filter to make new DF's"
   ]
  },
  {
   "cell_type": "code",
   "execution_count": 4,
   "metadata": {
    "execution": {
     "iopub.execute_input": "2025-02-08T12:22:52.848004Z",
     "iopub.status.busy": "2025-02-08T12:22:52.847635Z",
     "iopub.status.idle": "2025-02-08T12:22:53.324727Z",
     "shell.execute_reply": "2025-02-08T12:22:53.323320Z"
    }
   },
   "outputs": [
    {
     "name": "stdout",
     "output_type": "stream",
     "text": [
      "1235\n"
     ]
    }
   ],
   "source": [
    "df_corners_history = df_corners.select(df_corners[\"*\"]).where(    (df_corners['1HC_Res'].isNotNull())    )\n",
    "corners_history_ct = df_corners_history.count()\n",
    "print(corners_history_ct)"
   ]
  },
  {
   "cell_type": "code",
   "execution_count": 5,
   "metadata": {
    "execution": {
     "iopub.execute_input": "2025-02-08T12:22:53.329440Z",
     "iopub.status.busy": "2025-02-08T12:22:53.328467Z",
     "iopub.status.idle": "2025-02-08T12:22:53.804476Z",
     "shell.execute_reply": "2025-02-08T12:22:53.803099Z"
    }
   },
   "outputs": [
    {
     "name": "stdout",
     "output_type": "stream",
     "text": [
      "141\n"
     ]
    }
   ],
   "source": [
    "df_corners_history_aw = df_corners_history.select(df_corners_history[\"*\"]).where(    (df_corners_history['Fixture'].contains('- AW'))    )\n",
    "df_corners_history_aw_ct = df_corners_history_aw.count()\n",
    "print(df_corners_history_aw_ct)"
   ]
  },
  {
   "cell_type": "code",
   "execution_count": 6,
   "metadata": {
    "execution": {
     "iopub.execute_input": "2025-02-08T12:22:53.808725Z",
     "iopub.status.busy": "2025-02-08T12:22:53.808309Z",
     "iopub.status.idle": "2025-02-08T12:22:54.168723Z",
     "shell.execute_reply": "2025-02-08T12:22:54.167346Z"
    }
   },
   "outputs": [
    {
     "name": "stdout",
     "output_type": "stream",
     "text": [
      "29\n"
     ]
    }
   ],
   "source": [
    "df_corners_predict = df_corners.select(df_corners[\"*\"]).where(    (df_corners['1HC'].isNotNull()) & (df_corners['1HC_Res'].isNull())    )\n",
    "corners_predict_ct = df_corners_predict.count()\n",
    "print(corners_predict_ct)"
   ]
  },
  {
   "cell_type": "markdown",
   "metadata": {},
   "source": [
    "## Calculate the count of rows where the specified columns are equal to 0"
   ]
  },
  {
   "cell_type": "code",
   "execution_count": 7,
   "metadata": {
    "execution": {
     "iopub.execute_input": "2025-02-08T12:22:54.173519Z",
     "iopub.status.busy": "2025-02-08T12:22:54.172717Z",
     "iopub.status.idle": "2025-02-08T12:22:56.592856Z",
     "shell.execute_reply": "2025-02-08T12:22:56.591424Z"
    }
   },
   "outputs": [
    {
     "name": "stdout",
     "output_type": "stream",
     "text": [
      "Percentage of 1HC_Res zero: 8.987854251012145%\n",
      "Percentage of 1AC_Res zero: 16.356275303643724%\n",
      "Percentage of 2HC_Res zero: 8.097165991902834%\n",
      "Percentage of 2AC_Res zero: 13.360323886639677%\n",
      "Percentage of 1HC_Res and 1AC_Res both zero: 0.8097165991902834%\n",
      "Percentage of 2HC_Res and 2AC_Res both zero: 0.8906882591093117%\n",
      "Percentage of rows where 1HC_Res + 1AC_Res < 3: 14.736842105263156%\n",
      "Percentage of rows where 1HC_Res + 1AC_Res < 4: 23.481781376518217%\n"
     ]
    }
   ],
   "source": [
    "count_1HC_Res_0 = df_corners_history.filter(df_corners_history['1HC_Res'] == 0).count()\n",
    "count_1AC_Res_0 = df_corners_history.filter(df_corners_history['1AC_Res'] == 0).count()\n",
    "count_2HC_Res_0 = df_corners_history.filter(df_corners_history['2HC_Res'] == 0).count()\n",
    "count_2AC_Res_0 = df_corners_history.filter(df_corners_history['2AC_Res'] == 0).count()\n",
    "count_1HC_1AC_Res_0 = df_corners_history.filter((df_corners_history['1HC_Res'] == 0) & (df_corners_history['1AC_Res'] == 0)).count()\n",
    "count_2HC_2AC_Res_0 = df_corners_history.filter((df_corners_history['2HC_Res'] == 0) & (df_corners_history['2AC_Res'] == 0)).count()\n",
    "df_corners_history_filter_sum_less_3 = df_corners_history.filter((df_corners_history['1HC_Res'] + df_corners_history['1AC_Res']) < 3).count()\n",
    "df_corners_history_filter_sum_less_4 = df_corners_history.filter((df_corners_history['2HC_Res'] + df_corners_history['2AC_Res']) < 4).count()\n",
    "\n",
    "\n",
    "# Calculate the percentage\n",
    "perc_1HC_Res_0 = (count_1HC_Res_0 / corners_history_ct) * 100\n",
    "perc_1AC_Res_0 = (count_1AC_Res_0 / corners_history_ct) * 100\n",
    "perc_2HC_Res_0 = (count_2HC_Res_0 / corners_history_ct) * 100\n",
    "perc_2AC_Res_0 = (count_2AC_Res_0 / corners_history_ct) * 100\n",
    "perc_1HC_1AC_Res_0 = (count_1HC_1AC_Res_0 / corners_history_ct) * 100\n",
    "perc_2HC_2AC_Res_0 = (count_2HC_2AC_Res_0 / corners_history_ct) * 100\n",
    "perc_sum_less_3 = (df_corners_history_filter_sum_less_3 / corners_history_ct) * 100\n",
    "perc_sum_less_4 = (df_corners_history_filter_sum_less_4 / corners_history_ct) * 100\n",
    "\n",
    "\n",
    "print(f'Percentage of 1HC_Res zero: {perc_1HC_Res_0}%')\n",
    "print(f'Percentage of 1AC_Res zero: {perc_1AC_Res_0}%')\n",
    "print(f'Percentage of 2HC_Res zero: {perc_2HC_Res_0}%')\n",
    "print(f'Percentage of 2AC_Res zero: {perc_2AC_Res_0}%')\n",
    "print(f'Percentage of 1HC_Res and 1AC_Res both zero: {perc_1HC_1AC_Res_0}%')\n",
    "print(f'Percentage of 2HC_Res and 2AC_Res both zero: {perc_2HC_2AC_Res_0}%')\n",
    "print(f'Percentage of rows where 1HC_Res + 1AC_Res < 3: {perc_sum_less_3}%')\n",
    "print(f'Percentage of rows where 1HC_Res + 1AC_Res < 4: {perc_sum_less_4}%')"
   ]
  },
  {
   "cell_type": "markdown",
   "metadata": {},
   "source": [
    "## Get Past Month History for re-use."
   ]
  },
  {
   "cell_type": "code",
   "execution_count": 8,
   "metadata": {
    "execution": {
     "iopub.execute_input": "2025-02-08T12:22:56.598262Z",
     "iopub.status.busy": "2025-02-08T12:22:56.597109Z",
     "iopub.status.idle": "2025-02-08T12:22:56.907420Z",
     "shell.execute_reply": "2025-02-08T12:22:56.905985Z"
    }
   },
   "outputs": [
    {
     "name": "stdout",
     "output_type": "stream",
     "text": [
      "139\n"
     ]
    }
   ],
   "source": [
    "# Filter data from the previous month\n",
    "df_corners_history_prev_month = df_corners_history.filter(df_corners_history['InsertDate'] >= date_sub(current_date(), 15))\n",
    "df_corners_history_prev_month_ct = df_corners_history_prev_month.count()\n",
    "print(df_corners_history_prev_month_ct)"
   ]
  },
  {
   "cell_type": "code",
   "execution_count": 9,
   "metadata": {
    "execution": {
     "iopub.execute_input": "2025-02-08T12:22:56.912867Z",
     "iopub.status.busy": "2025-02-08T12:22:56.912281Z",
     "iopub.status.idle": "2025-02-08T12:22:57.108521Z",
     "shell.execute_reply": "2025-02-08T12:22:57.107225Z"
    }
   },
   "outputs": [],
   "source": [
    "# Split the Fixture column into home and away teams\n",
    "df_split = df_corners_history_prev_month.withColumn('HomeTeam', split(df_corners_history_prev_month['Fixture'], ' vs ')[0]) \\\n",
    "                                        .withColumn('AwayTeam', split(df_corners_history_prev_month['Fixture'], ' vs ')[1])\n",
    "\n",
    "# Select the relevant columns for home and away DataFrames\n",
    "df_corners_history_home = df_split.select('HomeTeam','1HC','1AC','2HC','2AC','1HCA','1ACA','2HCA','2ACA')\n",
    "df_corners_history_away = df_split.select('AwayTeam','1HC','1AC','2HC','2AC','1HCA','1ACA','2HCA','2ACA')\n",
    "\n",
    "# Replace 1AC contents with '-'\n",
    "df_corners_history_home = df_corners_history_home.withColumn('1AC', lit('-'))\n",
    "df_corners_history_home = df_corners_history_home.withColumn('2AC', lit('-'))\n",
    "df_corners_history_home = df_corners_history_home.withColumn('1ACA', lit('-'))\n",
    "df_corners_history_home = df_corners_history_home.withColumn('2ACA', lit('-'))\n",
    "\n",
    "df_corners_history_away = df_corners_history_away.withColumn('1HC', lit('-'))\n",
    "df_corners_history_away = df_corners_history_away.withColumn('2HC', lit('-'))\n",
    "df_corners_history_away = df_corners_history_away.withColumn('1HCA', lit('-'))\n",
    "df_corners_history_away = df_corners_history_away.withColumn('2HCA', lit('-'))"
   ]
  },
  {
   "cell_type": "markdown",
   "metadata": {},
   "source": [
    "## Train and export predictions using sklearn"
   ]
  },
  {
   "cell_type": "code",
   "execution_count": 10,
   "metadata": {
    "execution": {
     "iopub.execute_input": "2025-02-08T12:22:57.113184Z",
     "iopub.status.busy": "2025-02-08T12:22:57.112843Z",
     "iopub.status.idle": "2025-02-08T12:23:01.156749Z",
     "shell.execute_reply": "2025-02-08T12:23:01.154734Z"
    }
   },
   "outputs": [
    {
     "name": "stdout",
     "output_type": "stream",
     "text": [
      "Prediction dataset with results saved successfully!\n"
     ]
    }
   ],
   "source": [
    "get_corner_predictions(df_corners_history.toPandas(),df_corners_predict.toPandas())"
   ]
  },
  {
   "cell_type": "code",
   "execution_count": 11,
   "metadata": {
    "execution": {
     "iopub.execute_input": "2025-02-08T12:23:01.161575Z",
     "iopub.status.busy": "2025-02-08T12:23:01.160682Z",
     "iopub.status.idle": "2025-02-08T12:23:01.419377Z",
     "shell.execute_reply": "2025-02-08T12:23:01.418279Z"
    }
   },
   "outputs": [
    {
     "name": "stdout",
     "output_type": "stream",
     "text": [
      "210\n",
      "17.00404858299595\n"
     ]
    }
   ],
   "source": [
    "df_corners_history_more_two = df_corners_history.select(df_corners[\"*\"]).where(    (df_corners['WinOverTwo'] == 1)    )\n",
    "corners_history_more_two_ct = df_corners_history_more_two.count()\n",
    "print(corners_history_more_two_ct)\n",
    "print(corners_history_more_two_ct/corners_history_ct*100)"
   ]
  },
  {
   "cell_type": "code",
   "execution_count": 12,
   "metadata": {
    "execution": {
     "iopub.execute_input": "2025-02-08T12:23:01.423505Z",
     "iopub.status.busy": "2025-02-08T12:23:01.423136Z",
     "iopub.status.idle": "2025-02-08T12:23:01.473855Z",
     "shell.execute_reply": "2025-02-08T12:23:01.472615Z"
    }
   },
   "outputs": [],
   "source": [
    "avg_cols = {'1HC': 'avg', '1AC': 'avg', '2HC': 'avg', '2AC': 'avg', '1HCA': 'avg', '1ACA': 'avg', '2HCA': 'avg', '2ACA': 'avg', 'PastForTotal': 'avg', 'PastAgainstTotal': 'avg' }\n",
    "\n",
    "df_corners_history_more_two_avg = df_corners_history_more_two.agg(avg_cols)\n",
    "df_c2 = df_corners_history_more_two_avg\n",
    "\n",
    "#df_corners_history_more_two_avg.select(df_c2['avg(1HC)'],df_c2['avg(1AC)'],df_c2['avg(2HC)'],df_c2['avg(2AC)'],df_c2['avg(1HCA)'],df_c2['avg(1ACA)'],df_c2['avg(2HCA)'],df_c2['avg(2ACA)'],df_c2['avg(PastForTotal)'],df_c2['avg(PastAgainstTotal)']).show()"
   ]
  },
  {
   "cell_type": "markdown",
   "metadata": {},
   "source": [
    "## Predict over averages"
   ]
  },
  {
   "cell_type": "code",
   "execution_count": 13,
   "metadata": {
    "execution": {
     "iopub.execute_input": "2025-02-08T12:23:01.478833Z",
     "iopub.status.busy": "2025-02-08T12:23:01.477931Z",
     "iopub.status.idle": "2025-02-08T12:23:01.970808Z",
     "shell.execute_reply": "2025-02-08T12:23:01.969290Z"
    }
   },
   "outputs": [
    {
     "name": "stdout",
     "output_type": "stream",
     "text": [
      "avg_1HC - 2.58 / avg_1AC - 2.25 / avg_2HC - 2.76 / avg_2AC - 2.44 / avg_PastForTotal - 10.03 / avg_PastAgainstTotal - 9.70\n",
      "avg_1HCA - 2.00 / avg_1ACA - 2.53 / avg_2HCA - 2.33 / avg_2ACA - 2.85\n"
     ]
    }
   ],
   "source": [
    "row = df_corners_history_more_two_avg.first()\n",
    "perc = 0.9\n",
    "\n",
    "avg_1HC = Decimal(row['avg(1HC)'] * perc).quantize(Decimal(\"0.00\")) \n",
    "avg_1AC = Decimal(row['avg(1AC)'] * perc).quantize(Decimal(\"0.00\"))\n",
    "avg_2HC = Decimal(row['avg(2HC)'] * perc).quantize(Decimal(\"0.00\"))\n",
    "avg_2AC = Decimal(row['avg(2AC)'] * perc).quantize(Decimal(\"0.00\"))\n",
    "avg_1HCA = Decimal(row['avg(1HCA)'] * perc).quantize(Decimal(\"0.00\"))\n",
    "avg_1ACA = Decimal(row['avg(1ACA)'] * perc).quantize(Decimal(\"0.00\"))\n",
    "avg_2HCA = Decimal(row['avg(2HCA)'] * perc).quantize(Decimal(\"0.00\"))\n",
    "avg_2ACA = Decimal(row['avg(2ACA)'] * perc).quantize(Decimal(\"0.00\"))\n",
    "avg_PastForTotal = Decimal(row['avg(PastForTotal)'] * perc).quantize(Decimal(\"0.00\"))\n",
    "avg_PastAgainstTotal = Decimal(row['avg(PastAgainstTotal)'] * perc).quantize(Decimal(\"0.00\"))\n",
    "\n",
    "print(f'avg_1HC - {avg_1HC} / avg_1AC - {avg_1AC} / avg_2HC - {avg_2HC} / avg_2AC - {avg_2AC} / avg_PastForTotal - {avg_PastForTotal} / avg_PastAgainstTotal - {avg_PastAgainstTotal}')\n",
    "\n",
    "print(f'avg_1HCA - {avg_1HCA} / avg_1ACA - {avg_1ACA} / avg_2HCA - {avg_2HCA} / avg_2ACA - {avg_2ACA}')"
   ]
  },
  {
   "cell_type": "code",
   "execution_count": 14,
   "metadata": {
    "execution": {
     "iopub.execute_input": "2025-02-08T12:23:01.976964Z",
     "iopub.status.busy": "2025-02-08T12:23:01.975718Z",
     "iopub.status.idle": "2025-02-08T12:23:02.799772Z",
     "shell.execute_reply": "2025-02-08T12:23:02.797938Z"
    }
   },
   "outputs": [
    {
     "name": "stdout",
     "output_type": "stream",
     "text": [
      "4\n",
      "+-----+--------------------+----+----+----+----+-------+-------+-------+-------+----+----+----+----+----------+----------+------------+-------------+-------------+-------------+------------+----------------+----------------+-----------------+-----------+----------------+-----------------+---------------+----------------+--------------+----------------+---------------------+------------------+------------+-------------+-----------+------------+----------+----------+-----------+-----------+\n",
      "|   ID|             Fixture| 1HC| 1AC| 2HC| 2AC|1HC_Res|1AC_Res|2HC_Res|2AC_Res|1HCA|1ACA|2HCA|2ACA|windrawwin|InsertDate|PastForFirst|PastForSecond|PastHomeTotal|PastAwayTotal|PastForTotal|PastAgainstTotal|ResultTotalFirst|ResultTotalSecond|ResultTotal|HistoryOverFirst|HistoryOverSecond|HistoryOverBoth|HistoryOverTotal|HistoryOverTwo|HistoryOverThree|HistoryAgainstOverTwo|HistoryOverTwoBoth|WinOverFirst|WinOverSecond|WinOverBoth|WinOverTotal|WinOverOne|WinOverTwo|WinMostHome|WinMostAway|\n",
      "+-----+--------------------+----+----+----+----+-------+-------+-------+-------+----+----+----+----+----------+----------+------------+-------------+-------------+-------------+------------+----------------+----------------+-----------------+-----------+----------------+-----------------+---------------+----------------+--------------+----------------+---------------------+------------------+------------+-------------+-----------+------------+----------+----------+-----------+-----------+\n",
      "|4,431|West Brom vs Shef...|3.36|3.36|3.36|3.21|   NULL|   NULL|   NULL|   NULL|2.14|2.71|1.79|3.43|       2-0|2025-02-08|        6.72|         6.57|         6.72|         6.57|       13.29|           10.07|               0|                0|          0|               1|                1|              1|               1|             1|               1|                    0|                 0|           0|            0|          0|           0|         0|         0|          0|          0|\n",
      "|4,435|FC Magdeburg vs F...|3.78|2.50|4.33|2.60|   NULL|   NULL|   NULL|   NULL|1.78| 2.4|2.11| 3.2|       2-1|2025-02-08|        6.28|         6.93|         8.11|         5.10|       13.21|            9.49|               0|                0|          0|               1|                1|              1|               1|             1|               1|                    0|                 0|           0|            0|          0|           0|         0|         0|          0|          0|\n",
      "|4,446|Groningen vs NEC ...|2.90|2.33|2.90|3.11|   NULL|   NULL|   NULL|   NULL| 1.8|2.56| 2.2|3.56|       1-1|2025-02-08|        5.23|         6.01|         5.80|         5.44|       11.24|           10.12|               0|                0|          0|               1|                1|              1|               1|             1|               0|                    0|                 0|           0|            0|          0|           0|         0|         0|          0|          0|\n",
      "|4,449|  Falkirk vs Partick|4.00|2.27|4.36|3.00|   NULL|   NULL|   NULL|   NULL|1.36|2.09|1.64|2.55|       2-0|2025-02-08|        6.27|         7.36|         8.36|         5.27|       13.63|            7.64|               0|                0|          0|               1|                1|              1|               1|             1|               0|                    0|                 0|           0|            0|          0|           0|         0|         0|          0|          0|\n",
      "+-----+--------------------+----+----+----+----+-------+-------+-------+-------+----+----+----+----+----------+----------+------------+-------------+-------------+-------------+------------+----------------+----------------+-----------------+-----------+----------------+-----------------+---------------+----------------+--------------+----------------+---------------------+------------------+------------+-------------+-----------+------------+----------+----------+-----------+-----------+\n",
      "\n"
     ]
    }
   ],
   "source": [
    "# (df_corners_history['1HCA'] > avg_1HCA) & (df_corners_history['1ACA'] > avg_1ACA) & (df_corners_history['2HCA'] > avg_2HCA) & (df_corners_history['2ACA'] > avg_2ACA)\n",
    "\n",
    "df_pick_over_pred = df_corners_predict.select(df_corners_history[\"*\"]).where(    (df_corners_history['1HC'] >= avg_1HC) & (df_corners_history['1AC'] >= avg_1AC) & (df_corners_history['2HC'] >= avg_2HC) & (df_corners_history['2AC'] >= avg_2AC)    )\n",
    "df_pick_over_pred_ct = df_pick_over_pred.count()\n",
    "print(df_pick_over_pred_ct)\n",
    "df_pick_over_pred.show()"
   ]
  },
  {
   "cell_type": "markdown",
   "metadata": {},
   "source": [
    "## Predict over 2"
   ]
  },
  {
   "cell_type": "markdown",
   "metadata": {},
   "source": [
    "## Predict over 2.5"
   ]
  },
  {
   "cell_type": "markdown",
   "metadata": {},
   "source": [
    "## Write to excel"
   ]
  },
  {
   "cell_type": "code",
   "execution_count": 15,
   "metadata": {
    "execution": {
     "iopub.execute_input": "2025-02-08T12:23:02.806751Z",
     "iopub.status.busy": "2025-02-08T12:23:02.805131Z",
     "iopub.status.idle": "2025-02-08T12:23:04.505495Z",
     "shell.execute_reply": "2025-02-08T12:23:04.504261Z"
    }
   },
   "outputs": [],
   "source": [
    "with pd.ExcelWriter(f'{configuration.football_corners_output_path}/corners.xlsx') as writer:  \n",
    "     df_corners_history_more_two_avg.toPandas().to_excel(writer, sheet_name=f'over_two_avg', index=False)\n",
    "     df_pick_over_pred.toPandas().to_excel(writer, sheet_name=f'pick_over_pred - {perc}%', index=False)\n",
    "     df_corners_history_more_two.toPandas().to_excel(writer, sheet_name=f'history_more_two', index=False)\n",
    "\n",
    "     df_corners_history_home.toPandas().to_excel(writer, sheet_name=f'df_corners_history_home', index=False)\n",
    "     df_corners_history_away.toPandas().to_excel(writer, sheet_name=f'df_corners_history_away', index=False)"
   ]
  }
 ],
 "metadata": {
  "kernelspec": {
   "display_name": "vscode_pyspark",
   "language": "python",
   "name": "vscode_pyspark"
  },
  "language_info": {
   "codemirror_mode": {
    "name": "ipython",
    "version": 3
   },
   "file_extension": ".py",
   "mimetype": "text/x-python",
   "name": "python",
   "nbconvert_exporter": "python",
   "pygments_lexer": "ipython3",
   "version": "3.11.11"
  }
 },
 "nbformat": 4,
 "nbformat_minor": 2
}
