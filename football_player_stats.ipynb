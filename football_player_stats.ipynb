{
 "cells": [
  {
   "cell_type": "code",
   "execution_count": 1,
   "metadata": {},
   "outputs": [],
   "source": [
    "from pyspark.sql.functions import count\n",
    "import pandas as pd\n",
    "from lib import common_functions\n",
    "from lib import configuration"
   ]
  },
  {
   "cell_type": "code",
   "execution_count": null,
   "metadata": {},
   "outputs": [
    {
     "data": {
      "text/html": [
       "\n",
       "            <div>\n",
       "                <p><b>SparkSession - in-memory</b></p>\n",
       "                \n",
       "        <div>\n",
       "            <p><b>SparkContext</b></p>\n",
       "\n",
       "            <p><a href=\"http://c08d515090e4:4040\">Spark UI</a></p>\n",
       "\n",
       "            <dl>\n",
       "              <dt>Version</dt>\n",
       "                <dd><code>v3.5.0</code></dd>\n",
       "              <dt>Master</dt>\n",
       "                <dd><code>local[*]</code></dd>\n",
       "              <dt>AppName</dt>\n",
       "                <dd><code>player_stats</code></dd>\n",
       "            </dl>\n",
       "        </div>\n",
       "        \n",
       "            </div>\n",
       "        "
      ],
      "text/plain": [
       "<pyspark.sql.session.SparkSession at 0x7fc4e042e950>"
      ]
     },
     "execution_count": 2,
     "metadata": {},
     "output_type": "execute_result"
    }
   ],
   "source": [
    "spark = common_functions.get_spark_session('player_stats')\n",
    "spark.active()"
   ]
  },
  {
   "cell_type": "code",
   "execution_count": null,
   "metadata": {},
   "outputs": [
    {
     "name": "stdout",
     "output_type": "stream",
     "text": [
      "/home/jovyan/code/files/input/football/player_stats/ - Folder Already Exists!\n",
      "/home/jovyan/code/files/output/football/player_stats/ - Folder Already Exists!\n"
     ]
    }
   ],
   "source": [
    "common_functions.make_dir(configuration.football_players_input_path)\n",
    "common_functions.make_dir(configuration.football_players_output_path)"
   ]
  },
  {
   "cell_type": "code",
   "execution_count": 4,
   "metadata": {},
   "outputs": [
    {
     "name": "stdout",
     "output_type": "stream",
     "text": [
      "+-----------------+-------+-----------+-----------+----------+-----------+--------+-----------+-------+------------+-------------+-----------+---------------+------------+------------------+-------------------+-------------------+-------------------+------------------+-------------------+-------------------+-------------------+-------------------+\n",
      "|           player|   team|       comp|appearences|  position|shots_total|shots_on|goals_total|assists|passes_total|tackles_total|fouls_drawn|fouls_committed|cards_yellow|    shots_accuracy|   shots_on_per_app|      goals_per_app|    assists_per_app|    passes_per_app|    tackles_per_app|      fouls_per_app|      cards_per_app|fouls_drawn_per_app|\n",
      "+-----------------+-------+-----------+-----------+----------+-----------+--------+-----------+-------+------------+-------------+-----------+---------------+------------+------------------+-------------------+-------------------+-------------------+------------------+-------------------+-------------------+-------------------+-------------------+\n",
      "|         D. Maeda| Celtic|Premiership|         14|  Attacker|       15.0|     5.0|          2|      3|         269|           15|          9|             32|           3| 33.33333333333333|0.35714285714285715|0.14285714285714285|0.21428571428571427|19.214285714285715| 1.0714285714285714| 2.2857142857142856|0.21428571428571427| 0.6428571428571429|\n",
      "|          N. Kühn| Celtic|Premiership|         13|  Attacker|       17.0|    12.0|          5|      6|         382|           19|          6|             11|           3| 70.58823529411765| 0.9230769230769231|0.38461538461538464|0.46153846153846156|29.384615384615383| 1.4615384615384615| 0.8461538461538461|0.23076923076923078|0.46153846153846156|\n",
      "|    Yang Hyun-Jun| Celtic|Premiership|          6|  Attacker|        3.0|     1.0|          0|      0|          86|            3|          1|              3|           0| 33.33333333333333|0.16666666666666666|                0.0|                0.0|14.333333333333334|                0.5|                0.5|                0.0|0.16666666666666666|\n",
      "|       A. Ralston| Celtic|Premiership|          7|  Defender|        3.0|     1.0|          1|      0|         191|            3|          2|              1|           0| 33.33333333333333|0.14285714285714285|0.14285714285714285|                0.0|27.285714285714285|0.42857142857142855|0.14285714285714285|                0.0| 0.2857142857142857|\n",
      "|       J. Forrest| Celtic|Premiership|         15|Midfielder|        9.0|     5.0|          0|      4|         335|            7|          3|              2|           0| 55.55555555555556| 0.3333333333333333|                0.0|0.26666666666666666|22.333333333333332| 0.4666666666666667|0.13333333333333333|                0.0|                0.2|\n",
      "|      C. McGregor| Celtic|Premiership|         13|Midfielder|       12.0|     7.0|          6|      1|        1116|           11|          9|              5|           1|58.333333333333336| 0.5384615384615384|0.46153846153846156|0.07692307692307693| 85.84615384615384| 0.8461538461538461|0.38461538461538464|0.07692307692307693| 0.6923076923076923|\n",
      "|C. Carter-Vickers| Celtic|Premiership|         10|  Defender|       NULL|    NULL|          0|      0|        1039|           14|          7|              4|           0|              NULL|               NULL|                0.0|                0.0|             103.9|                1.4|                0.4|                0.0|                0.7|\n",
      "|     K. Furuhashi| Celtic|Premiership|         14|  Attacker|       34.0|    24.0|          6|      3|          85|            1|          6|              5|           0| 70.58823529411765| 1.7142857142857142|0.42857142857142855|0.21428571428571427| 6.071428571428571|0.07142857142857142|0.35714285714285715|                0.0|0.42857142857142855|\n",
      "|       L. McCowan| Celtic|Premiership|         11|Midfielder|       13.0|     6.0|          3|      3|         323|            7|         11|             10|           0| 46.15384615384615| 0.5454545454545454| 0.2727272727272727| 0.2727272727272727|29.363636363636363| 0.6363636363636364| 0.9090909090909091|                0.0|                1.0|\n",
      "|        A. Trusty| Celtic|Premiership|          9|  Defender|        6.0|     2.0|          0|      0|        1020|           16|          6|              4|           1| 33.33333333333333| 0.2222222222222222|                0.0|                0.0|113.33333333333333| 1.7777777777777777| 0.4444444444444444| 0.1111111111111111| 0.6666666666666666|\n",
      "|        L. Scales| Celtic|Premiership|         13|  Defender|        7.0|     4.0|          2|      1|        1429|           16|         10|              7|           1| 57.14285714285714| 0.3076923076923077|0.15384615384615385|0.07692307692307693|109.92307692307692| 1.2307692307692308| 0.5384615384615384|0.07692307692307693| 0.7692307692307693|\n",
      "|          A. Idah| Celtic|Premiership|         12|  Attacker|       23.0|    16.0|          5|      0|         103|            2|          5|              2|           0| 69.56521739130434| 1.3333333333333333| 0.4166666666666667|                0.0| 8.583333333333334|0.16666666666666666|0.16666666666666666|                0.0| 0.4166666666666667|\n",
      "|   Paulo Bernardo| Celtic|Premiership|         14|Midfielder|        6.0|     3.0|          2|      2|         440|           30|          7|              9|           1|              50.0|0.21428571428571427|0.14285714285714285|0.14285714285714285|31.428571428571427|  2.142857142857143| 0.6428571428571429|0.07142857142857142|                0.5|\n",
      "|        A. Engels| Celtic|Premiership|         12|Midfielder|       11.0|     5.0|          3|      0|         418|            7|          9|              7|           2| 45.45454545454545| 0.4166666666666667|               0.25|                0.0|34.833333333333336| 0.5833333333333334| 0.5833333333333334|0.16666666666666666|               0.75|\n",
      "|        R. Hatate| Celtic|Premiership|         15|Midfielder|       25.0|     9.0|          4|      0|         630|           15|         15|             10|           1|              36.0|                0.6|0.26666666666666666|                0.0|              42.0|                1.0| 0.6666666666666666|0.06666666666666667|                1.0|\n",
      "|       Álex Valle| Celtic|Premiership|          6|  Defender|        5.0|     3.0|          0|      2|         398|            8|          8|              4|           1|              60.0|                0.5|                0.0| 0.3333333333333333| 66.33333333333333| 1.3333333333333333| 0.6666666666666666|0.16666666666666666| 1.3333333333333333|\n",
      "|        G. Taylor| Celtic|Premiership|         12|  Defender|        2.0|     1.0|          0|      4|         825|           22|         13|              7|           3|              50.0|0.08333333333333333|                0.0| 0.3333333333333333|             68.75| 1.8333333333333333| 0.5833333333333334|               0.25| 1.0833333333333333|\n",
      "|      A. Johnston| Celtic|Premiership|         12|  Defender|        8.0|     7.0|          4|      4|         991|           25|         17|             16|           2|              87.5| 0.5833333333333334| 0.3333333333333333| 0.3333333333333333| 82.58333333333333| 2.0833333333333335| 1.3333333333333333|0.16666666666666666| 1.4166666666666667|\n",
      "|         V. Černý|Rangers|Premiership|         13|  Attacker|         19|    12.0|          6|      1|         451|            4|          2|              7|           1|  63.1578947368421| 0.9230769230769231|0.46153846153846156|0.07692307692307693| 34.69230769230769| 0.3076923076923077| 0.5384615384615384|0.07692307692307693|0.15384615384615385|\n",
      "|           Danilo|Rangers|Premiership|          6|  Attacker|         14|    10.0|          3|      1|          89|            2|          1|              1|           0| 71.42857142857143| 1.6666666666666667|                0.5|0.16666666666666666|14.833333333333334| 0.3333333333333333|0.16666666666666666|                0.0|0.16666666666666666|\n",
      "+-----------------+-------+-----------+-----------+----------+-----------+--------+-----------+-------+------------+-------------+-----------+---------------+------------+------------------+-------------------+-------------------+-------------------+------------------+-------------------+-------------------+-------------------+-------------------+\n",
      "only showing top 20 rows\n",
      "\n"
     ]
    },
    {
     "data": {
      "text/plain": [
       "194"
      ]
     },
     "execution_count": 4,
     "metadata": {},
     "output_type": "execute_result"
    }
   ],
   "source": [
    "player_stats = spark.read.option(\"header\", True).load(f'{configuration.football_players_input_path}/*.csv', format='csv')\n",
    "player_stats.show()\n",
    "player_stats.count()"
   ]
  },
  {
   "cell_type": "code",
   "execution_count": 5,
   "metadata": {},
   "outputs": [],
   "source": [
    "individual_team_home = 'Rangers'\n",
    "individual_team_away = 'Celtic'"
   ]
  },
  {
   "cell_type": "markdown",
   "metadata": {},
   "source": [
    "Filter to make new DF's"
   ]
  },
  {
   "cell_type": "code",
   "execution_count": 6,
   "metadata": {},
   "outputs": [
    {
     "name": "stdout",
     "output_type": "stream",
     "text": [
      "+------------+-------------------+-----------+-----------+--------+-----------------+------------------+-----------+-------+-------------------+\n",
      "|      player|               team|appearences|shots_total|shots_on|   shots_accuracy|  shots_on_per_app|goals_total|assists|shots_total_per_app|\n",
      "+------------+-------------------+-----------+-----------+--------+-----------------+------------------+-----------+-------+-------------------+\n",
      "|  E. Haaland|    Manchester City|         15|         58|    38.0|65.51724137931035| 2.533333333333333|         13|      1| 3.8666666666666667|\n",
      "|   K. Piątek|Istanbul Basaksehir|         14|         38|    20.0|52.63157894736842|1.4285714285714286|          9|      1| 2.7142857142857144|\n",
      "|   C. Palmer|            Chelsea|         15|       37.0|    24.0|64.86486486486487|               1.6|         11|      6|  2.466666666666667|\n",
      "|K. Furuhashi|             Celtic|         14|       34.0|    24.0|70.58823529411765|1.7142857142857142|          6|      3| 2.4285714285714284|\n",
      "|  N. Madueke|            Chelsea|         14|       34.0|    20.0|58.82352941176471|1.4285714285714286|          5|      2| 2.4285714285714284|\n",
      "|      Danilo|            Rangers|          6|         14|    10.0|71.42857142857143|1.6666666666666667|          3|      1| 2.3333333333333335|\n",
      "|    E. Džeko|         Fenerbahce|         14|         31|    18.0|58.06451612903226|1.2857142857142858|          8|      1| 2.2142857142857144|\n",
      "| S. Guirassy|  Borussia Dortmund|         10|         22|    11.0|             50.0|               1.1|          6|      1|                2.2|\n",
      "|  N. Jackson|            Chelsea|         14|       28.0|    20.0|71.42857142857143|1.4285714285714286|          8|      3|                2.0|\n",
      "|A. Pinamonti|              Genoa|         14|         28|    14.0|             50.0|               1.0|          5|      1|                2.0|\n",
      "| Rafael Leão|           AC Milan|         13|         25|    15.0|             60.0|1.1538461538461537|          3|      4| 1.9230769230769231|\n",
      "|     A. Idah|             Celtic|         12|       23.0|    16.0|69.56521739130434|1.3333333333333333|          5|      0| 1.9166666666666667|\n",
      "| A. Garnacho|  Manchester United|         15|       28.0|    16.0|57.14285714285714|1.0666666666666667|          3|      1| 1.8666666666666667|\n",
      "|   A. Hložek|    1899 Hoffenheim|         12|       21.0|    14.0|66.66666666666666|1.1666666666666667|          3|      1|               1.75|\n",
      "+------------+-------------------+-----------+-----------+--------+-----------------+------------------+-----------+-------+-------------------+\n",
      "\n"
     ]
    },
    {
     "data": {
      "text/plain": [
       "14"
      ]
     },
     "execution_count": 6,
     "metadata": {},
     "output_type": "execute_result"
    }
   ],
   "source": [
    "shots_on = player_stats.select(\"player\", \"team\", \"appearences\", \"shots_total\", \"shots_on\", \"shots_accuracy\", \"shots_on_per_app\", \"goals_total\", \"assists\").where(    (player_stats['appearences']>5) & (player_stats['shots_on_per_app']>0.9) & (player_stats.shots_total / player_stats.appearences>1.7)    ) \\\n",
    "    .withColumn(\"shots_total_per_app\", player_stats.shots_total / player_stats.appearences)\n",
    "shots_on.sort(\"shots_total_per_app\", ascending=[False]).show()\n",
    "\n",
    "shots_on.count()"
   ]
  },
  {
   "cell_type": "code",
   "execution_count": 7,
   "metadata": {},
   "outputs": [
    {
     "name": "stdout",
     "output_type": "stream",
     "text": [
      "+-------------+-------------------+-----------+-------------+------------------+------------------+-------------------+\n",
      "|       player|               team|appearences|tackles_total|   tackles_per_app|     fouls_per_app|      cards_per_app|\n",
      "+-------------+-------------------+-----------+-------------+------------------+------------------+-------------------+\n",
      "|   T. Bischof|    1899 Hoffenheim|         11|           49| 4.454545454545454|1.4545454545454546|0.18181818181818182|\n",
      "|   M. Caicedo|            Chelsea|         15|           47|3.1333333333333333|               2.0|                0.2|\n",
      "|  C. Nørgaard|          Brentford|         11|           34| 3.090909090909091|1.4545454545454546|0.18181818181818182|\n",
      "|    M. Ugarte|  Manchester United|         10|           25|               2.5|               1.5|                0.3|\n",
      "|Miguel Crespo|Istanbul Basaksehir|         11|         26.0|2.3636363636363638|1.8181818181818181|0.18181818181818182|\n",
      "|Emerson Royal|           AC Milan|         12|           28|2.3333333333333335|               2.0|               0.25|\n",
      "| Aarón Martín|              Genoa|         14|         30.0| 2.142857142857143|1.4285714285714286| 0.2857142857142857|\n",
      "+-------------+-------------------+-----------+-------------+------------------+------------------+-------------------+\n",
      "\n"
     ]
    },
    {
     "data": {
      "text/plain": [
       "7"
      ]
     },
     "execution_count": 7,
     "metadata": {},
     "output_type": "execute_result"
    }
   ],
   "source": [
    "fouls_per_app = player_stats.select(\"player\", \"team\", \"appearences\", \"tackles_total\", \"tackles_per_app\", \"fouls_per_app\", \"cards_per_app\").where(   (player_stats['appearences']>5) & (player_stats['tackles_per_app']>2.0) & (player_stats['fouls_per_app']>1.4)   )\n",
    "#fouls_per_app.sort(\"fouls_per_app\", ascending=[False]).show()\n",
    "fouls_per_app.sort(\"tackles_per_app\", ascending=[False]).show()\n",
    "\n",
    "fouls_per_app.count()"
   ]
  },
  {
   "cell_type": "code",
   "execution_count": 8,
   "metadata": {},
   "outputs": [
    {
     "name": "stdout",
     "output_type": "stream",
     "text": [
      "+-----------+-----------------+-----------+-------------+-------------------+-------------+\n",
      "|     player|             team|appearences|tackles_total|fouls_drawn_per_app|cards_per_app|\n",
      "+-----------+-----------------+-----------+-------------+-------------------+-------------+\n",
      "|  C. Palmer|          Chelsea|         15|           10| 2.3333333333333335|          0.2|\n",
      "|S. Guirassy|Borussia Dortmund|         10|          3.0|                2.3|          0.0|\n",
      "+-----------+-----------------+-----------+-------------+-------------------+-------------+\n",
      "\n"
     ]
    },
    {
     "data": {
      "text/plain": [
       "2"
      ]
     },
     "execution_count": 8,
     "metadata": {},
     "output_type": "execute_result"
    }
   ],
   "source": [
    "fouls_drawn_per_app = player_stats.select(\"player\", \"team\", \"appearences\", \"tackles_total\", \"fouls_drawn_per_app\", \"cards_per_app\").where(   (player_stats['fouls_drawn_per_app']>2.0) & (player_stats['appearences']>5)   )\n",
    "fouls_drawn_per_app.sort(\"fouls_drawn_per_app\", ascending=[False]).show()\n",
    "\n",
    "fouls_drawn_per_app.count()"
   ]
  },
  {
   "cell_type": "code",
   "execution_count": 9,
   "metadata": {},
   "outputs": [
    {
     "name": "stdout",
     "output_type": "stream",
     "text": [
      "+------------+-------+-----------+-----------+--------+-----------------+------------------+-----------+-------+-------------------+\n",
      "|      player|   team|appearences|shots_total|shots_on|   shots_accuracy|  shots_on_per_app|goals_total|assists|shots_total_per_app|\n",
      "+------------+-------+-----------+-----------+--------+-----------------+------------------+-----------+-------+-------------------+\n",
      "|K. Furuhashi| Celtic|         14|       34.0|    24.0|70.58823529411765|1.7142857142857142|          6|      3| 2.4285714285714284|\n",
      "|      Danilo|Rangers|          6|         14|    10.0|71.42857142857143|1.6666666666666667|          3|      1| 2.3333333333333335|\n",
      "|     A. Idah| Celtic|         12|       23.0|    16.0|69.56521739130434|1.3333333333333333|          5|      0| 1.9166666666666667|\n",
      "+------------+-------+-----------+-----------+--------+-----------------+------------------+-----------+-------+-------------------+\n",
      "\n"
     ]
    }
   ],
   "source": [
    "individual_team_shots_on = shots_on.select(shots_on[\"*\"]).where(    (shots_on[\"team\"]==individual_team_home) | (shots_on[\"team\"]==individual_team_away)   )\n",
    "individual_team_shots_on.sort(\"shots_on_per_app\", ascending=[False]).show()"
   ]
  },
  {
   "cell_type": "code",
   "execution_count": 10,
   "metadata": {},
   "outputs": [
    {
     "name": "stdout",
     "output_type": "stream",
     "text": [
      "+------+----+-----------+-------------+---------------+-------------+-------------+\n",
      "|player|team|appearences|tackles_total|tackles_per_app|fouls_per_app|cards_per_app|\n",
      "+------+----+-----------+-------------+---------------+-------------+-------------+\n",
      "+------+----+-----------+-------------+---------------+-------------+-------------+\n",
      "\n"
     ]
    }
   ],
   "source": [
    "individual_team_fouls_per_app = fouls_per_app.select(fouls_per_app[\"*\"]).where(    (fouls_per_app[\"team\"]==individual_team_home) | (fouls_per_app[\"team\"]==individual_team_away)   )\n",
    "individual_team_fouls_per_app.sort(\"fouls_per_app\", ascending=[False]).show()\n",
    "\n",
    "#individual_team_fouls_per_app.toPandas().to_csv(f'{configuration.football_players_output_path}liv_man_city.csv')\n"
   ]
  },
  {
   "cell_type": "code",
   "execution_count": 11,
   "metadata": {},
   "outputs": [
    {
     "name": "stdout",
     "output_type": "stream",
     "text": [
      "+------+----+-----------+-------------+-------------------+-------------+\n",
      "|player|team|appearences|tackles_total|fouls_drawn_per_app|cards_per_app|\n",
      "+------+----+-----------+-------------+-------------------+-------------+\n",
      "+------+----+-----------+-------------+-------------------+-------------+\n",
      "\n"
     ]
    }
   ],
   "source": [
    "individual_team_fouls_drawn_per_app = fouls_drawn_per_app.select(fouls_drawn_per_app[\"*\"]).where(    (fouls_drawn_per_app[\"team\"]==individual_team_home) | (fouls_drawn_per_app[\"team\"]==individual_team_away)   )\n",
    "individual_team_fouls_drawn_per_app.sort(\"fouls_drawn_per_app\", ascending=[False]).show()"
   ]
  },
  {
   "cell_type": "code",
   "execution_count": 12,
   "metadata": {},
   "outputs": [
    {
     "name": "stdout",
     "output_type": "stream",
     "text": [
      "+-------------------+--------+\n",
      "|               team|count(1)|\n",
      "+-------------------+--------+\n",
      "|Istanbul Basaksehir|       1|\n",
      "|            Chelsea|       1|\n",
      "|  Manchester United|       1|\n",
      "|          Brentford|       1|\n",
      "|    1899 Hoffenheim|       1|\n",
      "|           AC Milan|       1|\n",
      "|              Genoa|       1|\n",
      "+-------------------+--------+\n",
      "\n"
     ]
    }
   ],
   "source": [
    "team_count = fouls_per_app.groupBy(\"team\").agg(count(\"*\")).alias(\"count\").sort(\"count(1)\", ascending=[False])\n",
    "fouls_per_app.groupBy(\"team\").agg(count(\"*\")).alias(\"count\").sort(\"count(1)\", ascending=[False]).show()"
   ]
  },
  {
   "cell_type": "code",
   "execution_count": 13,
   "metadata": {},
   "outputs": [],
   "source": [
    "with pd.ExcelWriter(f'{configuration.football_players_output_path}player_stats.xlsx') as writer:  \n",
    "     shots_on.toPandas().to_excel(writer, sheet_name='shots_on', index=False)\n",
    "     fouls_per_app.toPandas().to_excel(writer, sheet_name='fouls_per_app', index=False)\n",
    "     fouls_drawn_per_app.toPandas().to_excel(writer, sheet_name='fouls_drawn_per_app', index=False)\n",
    "     team_count.toPandas().to_excel(writer, sheet_name='team_count', index=False)\n",
    "     individual_team_shots_on.toPandas().to_excel(writer, sheet_name='individual_team_shots_on', index=False)\n",
    "     individual_team_fouls_per_app.toPandas().to_excel(writer, sheet_name='individual_team_fouls_per_app', index=False)"
   ]
  }
 ],
 "metadata": {
  "kernelspec": {
   "display_name": "vscode_pyspark",
   "language": "python",
   "name": "vscode_pyspark"
  },
  "language_info": {
   "codemirror_mode": {
    "name": "ipython",
    "version": 3
   },
   "file_extension": ".py",
   "mimetype": "text/x-python",
   "name": "python",
   "nbconvert_exporter": "python",
   "pygments_lexer": "ipython3",
   "version": "3.11.11"
  }
 },
 "nbformat": 4,
 "nbformat_minor": 2
}
