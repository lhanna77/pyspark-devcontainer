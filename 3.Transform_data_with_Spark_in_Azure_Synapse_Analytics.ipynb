{
 "cells": [
  {
   "cell_type": "markdown",
   "metadata": {},
   "source": [
    "# Transform data by using Spark\n",
    "\n",
    "Apache Spark provides a distributed data processing platform that you can use to perform complex data transformations at scale.\n",
    "\n",
    "\n",
    "## Load source data\n",
    "\n",
    "Let's start by loading some historical sales order data into a dataframe.\n",
    "\n",
    "Review the code in the cell below, which loads the sales order from all of the csv files within the **data** directory. Then click the **&#9655;** button to the left of the cell to run it.\n",
    "\n",
    "> **Note**: The first time you run a cell in a notebook, the Spark pool must be started; which can take several minutes."
   ]
  },
  {
   "cell_type": "code",
   "execution_count": 2,
   "metadata": {},
   "outputs": [],
   "source": [
    "from pyspark import sql\n",
    "from lib import common_functions\n",
    "from lib import configuration"
   ]
  },
  {
   "cell_type": "code",
   "execution_count": 3,
   "metadata": {},
   "outputs": [
    {
     "data": {
      "text/html": [
       "\n",
       "            <div>\n",
       "                <p><b>SparkSession - in-memory</b></p>\n",
       "                \n",
       "        <div>\n",
       "            <p><b>SparkContext</b></p>\n",
       "\n",
       "            <p><a href=\"http://b78fce982f67:4040\">Spark UI</a></p>\n",
       "\n",
       "            <dl>\n",
       "              <dt>Version</dt>\n",
       "                <dd><code>v3.5.0</code></dd>\n",
       "              <dt>Master</dt>\n",
       "                <dd><code>local[*]</code></dd>\n",
       "              <dt>AppName</dt>\n",
       "                <dd><code>dp203</code></dd>\n",
       "            </dl>\n",
       "        </div>\n",
       "        \n",
       "            </div>\n",
       "        "
      ],
      "text/plain": [
       "<pyspark.sql.session.SparkSession at 0x7fdb2c1b4bd0>"
      ]
     },
     "execution_count": 3,
     "metadata": {},
     "output_type": "execute_result"
    }
   ],
   "source": [
    "spark = common_functions.get_spark_session('dp203')\n",
    "spark.active()"
   ]
  },
  {
   "cell_type": "code",
   "execution_count": 4,
   "metadata": {},
   "outputs": [
    {
     "data": {
      "text/plain": [
       "'/home/jovyan/code/files/input/dp203//2019.csv'"
      ]
     },
     "execution_count": 4,
     "metadata": {},
     "output_type": "execute_result"
    }
   ],
   "source": [
    "twenty_n_path = configuration.dp203_input_path+'/2019.csv'\n",
    "twenty_t_path = configuration.dp203_input_path+'/2020.csv'\n",
    "twenty_to_path = configuration.dp203_input_path+'/2021.csv'\n",
    "\n",
    "twenty_n_path"
   ]
  },
  {
   "cell_type": "code",
   "execution_count": 5,
   "metadata": {},
   "outputs": [
    {
     "name": "stdout",
     "output_type": "stream",
     "text": [
      "+----------------+--------------------+----------+-------------------+--------------------+--------------------+--------+---------+---------+\n",
      "|SalesOrderNumber|SalesOrderLineNumber| OrderDate|       CustomerName|        EmailAddress|                Item|Quantity|UnitPrice|TaxAmount|\n",
      "+----------------+--------------------+----------+-------------------+--------------------+--------------------+--------+---------+---------+\n",
      "|         SO49171|                   1|2021-01-01|      Mariah Foster|mariah21@adventur...|  Road-250 Black, 48|       1|2181.5625|  174.525|\n",
      "|         SO49172|                   1|2021-01-01|       Brian Howard|brian23@adventure...|    Road-250 Red, 44|       1|  2443.35|  195.468|\n",
      "|         SO49173|                   1|2021-01-01|      Linda Alvarez|linda19@adventure...|Mountain-200 Silv...|       1|2071.4197| 165.7136|\n",
      "|         SO49174|                   1|2021-01-01|     Gina Hernandez|gina4@adventure-w...|Mountain-200 Silv...|       1|2071.4197| 165.7136|\n",
      "|         SO49178|                   1|2021-01-01|          Beth Ruiz|beth4@adventure-w...|Road-550-W Yellow...|       1|1000.4375|   80.035|\n",
      "|         SO49179|                   1|2021-01-01|          Evan Ward|evan13@adventure-...|Road-550-W Yellow...|       1|1000.4375|   80.035|\n",
      "|         SO49175|                   1|2021-01-01|       Margaret Guo|margaret24@advent...|    Road-250 Red, 52|       1|  2443.35|  195.468|\n",
      "|         SO49180|                   1|2021-01-01|      Mitchell Yuan|mitchell6@adventu...|  Road-650 Black, 58|       1|   782.99|  62.6392|\n",
      "|         SO49176|                   1|2021-01-01|       Shawn Sharma|shawn11@adventure...|Mountain-200 Silv...|       1|2071.4197| 165.7136|\n",
      "|         SO49177|                   1|2021-01-01|     Barbara Chande|barbara44@adventu...|Mountain-200 Silv...|       1|2071.4197| 165.7136|\n",
      "|         SO49186|                   1|2021-01-02|            Cara Xu|cara8@adventure-w...|    Road-250 Red, 52|       1|  2443.35|  195.468|\n",
      "|         SO49187|                   1|2021-01-02|          Lacey Liu|lacey16@adventure...|  Road-250 Black, 58|       1|2181.5625|  174.525|\n",
      "|         SO49190|                   1|2021-01-02|           Omar Zhu|omar13@adventure-...|Road-550-W Yellow...|       1|1000.4375|   80.035|\n",
      "|         SO49185|                   1|2021-01-02|Cassandra Fernandez|cassandra17@adven...|Mountain-200 Blac...|       1|2049.0981| 163.9279|\n",
      "|         SO49184|                   1|2021-01-02|    Monica Martinez|monica17@adventur...|Mountain-200 Blac...|       1|2049.0981| 163.9279|\n",
      "|         SO49189|                   1|2021-01-02|     Marie Gonzalez|marie20@adventure...|  Road-650 Black, 48|       1|   782.99|  62.6392|\n",
      "|         SO49182|                   1|2021-01-02|     Alexandra Hall|alexandra89@adven...|    Road-250 Red, 48|       1|  2443.35|  195.468|\n",
      "|         SO49183|                   1|2021-01-02|     Alejandro Raji|alejandro46@adven...|    Road-250 Red, 52|       1|  2443.35|  195.468|\n",
      "|         SO49181|                   1|2021-01-02|    Derrick Jim�nez|derrick5@adventur...|  Road-250 Black, 48|       1|2181.5625|  174.525|\n",
      "|         SO49188|                   1|2021-01-02|           Erin Cox|erin15@adventure-...|Mountain-200 Blac...|       1|2049.0981| 163.9279|\n",
      "+----------------+--------------------+----------+-------------------+--------------------+--------------------+--------+---------+---------+\n",
      "only showing top 20 rows\n",
      "\n"
     ]
    },
    {
     "data": {
      "text/plain": [
       "32718"
      ]
     },
     "execution_count": 5,
     "metadata": {},
     "output_type": "execute_result"
    }
   ],
   "source": [
    "from pyspark.sql.types import *\n",
    "from pyspark.sql.functions import *\n",
    "\n",
    "orderSchema = StructType([\n",
    "    StructField(\"SalesOrderNumber\", StringType()),\n",
    "    StructField(\"SalesOrderLineNumber\", IntegerType()),\n",
    "    StructField(\"OrderDate\", DateType()),\n",
    "    StructField(\"CustomerName\", StringType()),\n",
    "    StructField(\"EmailAddress\", StringType()),\n",
    "    StructField(\"Item\", StringType()),\n",
    "    StructField(\"Quantity\", IntegerType()),\n",
    "    StructField(\"UnitPrice\", FloatType()),\n",
    "    StructField(\"TaxAmount\", FloatType())\n",
    "    ])\n",
    "\n",
    "order_details = spark.read.option(\"header\", True).load(f'{configuration.dp203_input_path}/*.csv', format='csv', schema=orderSchema)\n",
    "order_details.show()\n",
    "order_details.count()"
   ]
  },
  {
   "cell_type": "markdown",
   "metadata": {
    "nteract": {
     "transient": {
      "deleting": false
     }
    }
   },
   "source": [
    "## Transform the data structure\n",
    "\n",
    "The source data includes a **CustomerName** field, that contains the customer's first and last name. Let's modify the dataframe to separate this field into separate **FirstName** and **LastName** fields."
   ]
  },
  {
   "cell_type": "code",
   "execution_count": 6,
   "metadata": {
    "collapsed": false,
    "jupyter": {
     "outputs_hidden": false,
     "source_hidden": false
    },
    "nteract": {
     "transient": {
      "deleting": false
     }
    }
   },
   "outputs": [
    {
     "name": "stdout",
     "output_type": "stream",
     "text": [
      "+----------------+--------------------+----------+--------------------+--------------------+--------+---------+---------+---------+---------+\n",
      "|SalesOrderNumber|SalesOrderLineNumber| OrderDate|        EmailAddress|                Item|Quantity|UnitPrice|TaxAmount|FirstName| LastName|\n",
      "+----------------+--------------------+----------+--------------------+--------------------+--------+---------+---------+---------+---------+\n",
      "|         SO49171|                   1|2021-01-01|mariah21@adventur...|  Road-250 Black, 48|       1|2181.5625|  174.525|   Mariah|   Foster|\n",
      "|         SO49172|                   1|2021-01-01|brian23@adventure...|    Road-250 Red, 44|       1|  2443.35|  195.468|    Brian|   Howard|\n",
      "|         SO49173|                   1|2021-01-01|linda19@adventure...|Mountain-200 Silv...|       1|2071.4197| 165.7136|    Linda|  Alvarez|\n",
      "|         SO49174|                   1|2021-01-01|gina4@adventure-w...|Mountain-200 Silv...|       1|2071.4197| 165.7136|     Gina|Hernandez|\n",
      "|         SO49178|                   1|2021-01-01|beth4@adventure-w...|Road-550-W Yellow...|       1|1000.4375|   80.035|     Beth|     Ruiz|\n",
      "+----------------+--------------------+----------+--------------------+--------------------+--------+---------+---------+---------+---------+\n",
      "only showing top 5 rows\n",
      "\n"
     ]
    }
   ],
   "source": [
    "from pyspark.sql.functions import split, col\n",
    "\n",
    "# Create the new FirstName and LastName fields\n",
    "transformed_df = order_details.withColumn(\"FirstName\", split(col(\"CustomerName\"), \" \").getItem(0)).withColumn(\"LastName\", split(col(\"CustomerName\"), \" \").getItem(1))\n",
    "\n",
    "# Remove the CustomerName field\n",
    "transformed_df = transformed_df.drop(\"CustomerName\")\n",
    "\n",
    "transformed_df.show(n=5)"
   ]
  },
  {
   "cell_type": "markdown",
   "metadata": {
    "nteract": {
     "transient": {
      "deleting": false
     }
    }
   },
   "source": [
    "The code above creates a new dataframe with the **CustomerName** field removed and two new **FirstName** and **LastName** fields.\n",
    "\n",
    "You can use the full power of the Spark SQL library to transform the data by filtering rows, deriving, removing, renaming columns, and any applying other required data modifications.\n",
    "\n",
    "## Save the transformed data\n",
    "\n",
    "After making the required changes to the data, you can save the results in a supported file format.\n",
    "\n",
    "> **Note**: Commonly, *Parquet* format is preferred for data files that you will use for further analysis or ingestion into an analytical store. Parquet is a very efficient format that is supported by most large scale data analytics systems. In fact, sometimes your data transformation requirement may simply be to convert data from another format (such as CSV) to Parquet!\n",
    "\n",
    "Use the following code to save the transformed dataframe in Parquet format (Overwriting the data if it already exists)."
   ]
  },
  {
   "cell_type": "code",
   "execution_count": 12,
   "metadata": {
    "jupyter": {
     "outputs_hidden": false,
     "source_hidden": false
    },
    "nteract": {
     "transient": {
      "deleting": false
     }
    }
   },
   "outputs": [
    {
     "name": "stdout",
     "output_type": "stream",
     "text": [
      "Transformed data saved!\n"
     ]
    }
   ],
   "source": [
    "transformed_df.write.mode(\"overwrite\").parquet(f'{configuration.dp203_output_path}transformed_data/orders.parquet')\n",
    "print (\"Transformed data saved!\")"
   ]
  },
  {
   "cell_type": "markdown",
   "metadata": {
    "nteract": {
     "transient": {
      "deleting": false
     }
    }
   },
   "source": [
    "In the **files** tab (which should still be open above), navigate to the root **files** container and verify that a new folder named **transformed_data** has been created, containing a file named **orders.parquet**. Then return to this notebook."
   ]
  },
  {
   "cell_type": "markdown",
   "metadata": {
    "nteract": {
     "transient": {
      "deleting": false
     }
    }
   },
   "source": [
    "## Partition data\n",
    "\n",
    "A common way to optimize performance when dealing with large volumes of data is to partition the data files based on one or more field values. This can significant improve performance and make it easier to filter data.\n",
    "\n",
    "Use the following cell to derive new **Year** and **Month** fields and then save the resulting data in Parquet format, partitioned by year and month."
   ]
  },
  {
   "cell_type": "code",
   "execution_count": 13,
   "metadata": {
    "collapsed": false,
    "jupyter": {
     "outputs_hidden": false,
     "source_hidden": false
    },
    "nteract": {
     "transient": {
      "deleting": false
     }
    }
   },
   "outputs": [
    {
     "name": "stdout",
     "output_type": "stream",
     "text": [
      "+----------------+--------------------+----------+--------------------+--------------------+--------+---------+---------+---------+---------+----+-----+\n",
      "|SalesOrderNumber|SalesOrderLineNumber| OrderDate|        EmailAddress|                Item|Quantity|UnitPrice|TaxAmount|FirstName| LastName|Year|Month|\n",
      "+----------------+--------------------+----------+--------------------+--------------------+--------+---------+---------+---------+---------+----+-----+\n",
      "|         SO49171|                   1|2021-01-01|mariah21@adventur...|  Road-250 Black, 48|       1|2181.5625|  174.525|   Mariah|   Foster|2021|    1|\n",
      "|         SO49172|                   1|2021-01-01|brian23@adventure...|    Road-250 Red, 44|       1|  2443.35|  195.468|    Brian|   Howard|2021|    1|\n",
      "|         SO49173|                   1|2021-01-01|linda19@adventure...|Mountain-200 Silv...|       1|2071.4197| 165.7136|    Linda|  Alvarez|2021|    1|\n",
      "|         SO49174|                   1|2021-01-01|gina4@adventure-w...|Mountain-200 Silv...|       1|2071.4197| 165.7136|     Gina|Hernandez|2021|    1|\n",
      "|         SO49178|                   1|2021-01-01|beth4@adventure-w...|Road-550-W Yellow...|       1|1000.4375|   80.035|     Beth|     Ruiz|2021|    1|\n",
      "+----------------+--------------------+----------+--------------------+--------------------+--------+---------+---------+---------+---------+----+-----+\n",
      "only showing top 5 rows\n",
      "\n",
      "Transformed data saved!\n"
     ]
    }
   ],
   "source": [
    "from pyspark.sql.functions import year, month, col\n",
    "\n",
    "dated_df = transformed_df.withColumn(\"Year\", year(col(\"OrderDate\"))).withColumn(\"Month\", month(col(\"OrderDate\")))\n",
    "dated_df.show(n=5)\n",
    "dated_df.write.partitionBy(\"Year\",\"Month\").mode(\"overwrite\").parquet(f\"{configuration.dp203_output_path}partitioned_data\")\n",
    "print (\"Transformed data saved!\")"
   ]
  },
  {
   "cell_type": "markdown",
   "metadata": {
    "nteract": {
     "transient": {
      "deleting": false
     }
    }
   },
   "source": [
    "In the **files** tab (which should still be open above), navigate to the root **files** container and verify that a new folder named **partitioned_data** has been created, containing a hierachy of folders in the format **Year=*NNNN*** / **Month=*N***, each containing a .parquet file for the orders placed in the corresponding year and month. Then return to this notebook.\n",
    "\n",
    "You can read this data into a dataframe from any folder in the hierarchy, using explicit values or wildcards for partitioning fields. For example, use the following code to get the sales orders placed in 2020 for all months."
   ]
  },
  {
   "cell_type": "code",
   "execution_count": null,
   "metadata": {
    "collapsed": false,
    "jupyter": {
     "outputs_hidden": false,
     "source_hidden": false
    },
    "nteract": {
     "transient": {
      "deleting": false
     }
    }
   },
   "outputs": [
    {
     "name": "stdout",
     "output_type": "stream",
     "text": [
      "+----------------+--------------------+----------+--------------------+--------------------+--------+---------+---------+---------+----------+\n",
      "|SalesOrderNumber|SalesOrderLineNumber| OrderDate|        EmailAddress|                Item|Quantity|UnitPrice|TaxAmount|FirstName|  LastName|\n",
      "+----------------+--------------------+----------+--------------------+--------------------+--------+---------+---------+---------+----------+\n",
      "|         SO45607|                   1|2020-02-01|louis34@adventure...|    Road-650 Red, 52|       1| 699.0982|  55.9279|    Louis|      Nath|\n",
      "|         SO45606|                   1|2020-02-01|devon0@adventure-...|    Road-150 Red, 48|       1|  3578.27| 286.2616|    Devon|      Deng|\n",
      "|         SO45609|                   1|2020-02-01|max8@adventure-wo...|    Road-150 Red, 44|       1|  3578.27| 286.2616|      Max|   Ferrier|\n",
      "|         SO45608|                   1|2020-02-01|frank26@adventure...|Mountain-100 Blac...|       1|  3374.99| 269.9992|    Frank|   Carlson|\n",
      "|         SO45603|                   1|2020-02-01|haley10@adventure...|    Road-150 Red, 48|       1|  3578.27| 286.2616|    Haley|Richardson|\n",
      "|         SO45604|                   1|2020-02-01|victoria66@advent...|    Road-150 Red, 56|       1|  3578.27| 286.2616| Victoria|   Russell|\n",
      "|         SO45605|                   1|2020-02-01|destiny26@adventu...|    Road-150 Red, 44|       1|  3578.27| 286.2616|  Destiny|    Rogers|\n",
      "|         SO45602|                   1|2020-02-01|tamara3@adventure...|    Road-150 Red, 48|       1|  3578.27| 286.2616|   Tamara|       Zhu|\n",
      "|         SO45611|                   1|2020-02-02|devin32@adventure...|    Road-150 Red, 62|       1|  3578.27| 286.2616|    Devin|    Nelson|\n",
      "|         SO45610|                   1|2020-02-02|julia72@adventure...|    Road-150 Red, 62|       1|  3578.27| 286.2616|    Julia|   Coleman|\n",
      "+----------------+--------------------+----------+--------------------+--------------------+--------+---------+---------+---------+----------+\n",
      "only showing top 10 rows\n",
      "\n"
     ]
    }
   ],
   "source": [
    "orders_2020 = spark.read.parquet(f'{configuration.dp203_output_path}partitioned_data/Year=2020/Month=*')\n",
    "orders_2020.show(n=10)"
   ]
  },
  {
   "cell_type": "markdown",
   "metadata": {
    "nteract": {
     "transient": {
      "deleting": false
     }
    }
   },
   "source": [
    "Note that the partitioning columns specified in the file path are omitted in the resulting dataframe.\n",
    "\n",
    "## Use SQL to transform data\n",
    "\n",
    "Spark is a very flexible platform, and the **SQL** library that provides the dataframe also enables you to work with data using SQL semantics. You can query and transform data in dataframes by using SQL queries, and persist the results as tables - which are metadata abstractions over files.\n",
    "\n",
    "First, use the following code to save the original sales orders data (loaded from CSV files) as a table. Technically, this is an *external* table because the **path** parameter is used to specify where the data files for the table are stored (an *internal* table is stored in the system storage for the Spark metastore and managed automatically)."
   ]
  },
  {
   "cell_type": "code",
   "execution_count": null,
   "metadata": {
    "jupyter": {
     "outputs_hidden": false,
     "source_hidden": false
    },
    "microsoft": {},
    "nteract": {
     "transient": {
      "deleting": false
     }
    }
   },
   "outputs": [],
   "source": [
    "order_details.write.saveAsTable('sales_orders', format='parquet', mode='overwrite', path='/sales_orders_table')"
   ]
  },
  {
   "cell_type": "markdown",
   "metadata": {
    "nteract": {
     "transient": {
      "deleting": false
     }
    }
   },
   "source": [
    "In the **files** tab (which should still be open above), navigate to the root **files** container and verify that a new folder named **sales_orders_table** has been created, containing parquet files for the table data. Then return to this notebook.\n",
    "\n",
    "Now that the table has been created, you can use SQL to transform it. For example, the following code derives new Year and Month columns and then saves the results as a partitioned external table."
   ]
  },
  {
   "cell_type": "code",
   "execution_count": null,
   "metadata": {
    "collapsed": false,
    "jupyter": {
     "outputs_hidden": false,
     "source_hidden": false
    },
    "nteract": {
     "transient": {
      "deleting": false
     }
    }
   },
   "outputs": [],
   "source": [
    "sql_transform = spark.sql(\"SELECT *, YEAR(OrderDate) AS Year, MONTH(OrderDate) AS Month FROM sales_orders\")\n",
    "display(sql_transform.limit(5))\n",
    "sql_transform.write.partitionBy(\"Year\",\"Month\").saveAsTable('transformed_orders', format='parquet', mode='overwrite', path='/transformed_orders_table')"
   ]
  },
  {
   "cell_type": "markdown",
   "metadata": {},
   "source": [
    "In the **files** tab (which should still be open above), navigate to the root **files** container and verify that a new folder named **transformed_orders_table** has been created, containing a hierachy of folders in the format **Year=*NNNN*** / **Month=*N***, each containing a .parquet file for the orders placed in the corresponding year and month. Then return to this notebook.\n",
    "\n",
    "Essentially you've performed the same data transformation into partitioned parquet files as s before, but by using SQL instead of native dataframe methods.\n",
    "\n",
    "You can read this data into a dataframe from any folder in the hierarchy as before, but because the data files are also abstracted by a table in the metastore, you can query the data directly using SQL."
   ]
  },
  {
   "cell_type": "code",
   "execution_count": 1,
   "metadata": {
    "collapsed": false,
    "microsoft": {
     "language": "sparksql"
    }
   },
   "outputs": [
    {
     "name": "stderr",
     "output_type": "stream",
     "text": [
      "UsageError: Cell magic `%%sql` not found.\n"
     ]
    }
   ],
   "source": [
    "%%sql\n",
    "\n",
    "SELECT * FROM transformed_orders\n",
    "WHERE Year = 2021\n",
    "    AND Month = 1"
   ]
  },
  {
   "cell_type": "markdown",
   "metadata": {
    "nteract": {
     "transient": {
      "deleting": false
     }
    }
   },
   "source": [
    "Because these are *external* tables, you can drop the tables from the metastore without deleting the files - so the transfomed data remains available for other downstream data analytics or ingestion processes."
   ]
  },
  {
   "cell_type": "code",
   "execution_count": null,
   "metadata": {
    "collapsed": false,
    "jupyter": {
     "outputs_hidden": false,
     "source_hidden": false
    },
    "microsoft": {
     "language": "sparksql"
    },
    "nteract": {
     "transient": {
      "deleting": false
     }
    }
   },
   "outputs": [],
   "source": [
    "%%sql\n",
    "\n",
    "DROP TABLE transformed_orders;\n",
    "DROP TABLE sales_orders;"
   ]
  }
 ],
 "metadata": {
  "description": null,
  "kernelspec": {
   "display_name": "vscode_pyspark",
   "language": "python",
   "name": "vscode_pyspark"
  },
  "language_info": {
   "codemirror_mode": {
    "name": "ipython",
    "version": 3
   },
   "file_extension": ".py",
   "mimetype": "text/x-python",
   "name": "python",
   "nbconvert_exporter": "python",
   "pygments_lexer": "ipython3",
   "version": "3.11.11"
  },
  "save_output": true,
  "synapse_widget": {
   "state": {},
   "version": "0.1"
  }
 },
 "nbformat": 4,
 "nbformat_minor": 2
}
