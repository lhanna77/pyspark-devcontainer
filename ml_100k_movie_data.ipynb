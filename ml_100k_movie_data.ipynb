{
 "cells": [
  {
   "cell_type": "code",
   "execution_count": 2,
   "metadata": {},
   "outputs": [],
   "source": [
    "\n",
    "from collections import OrderedDict\n",
    "from lib.common_functions import *\n",
    "from lib.configuration import *"
   ]
  },
  {
   "cell_type": "code",
   "execution_count": 3,
   "metadata": {},
   "outputs": [],
   "source": [
    "spark = get_spark_session('ml-100k')\n",
    "spark.active()\n",
    "sc = spark.sparkContext"
   ]
  },
  {
   "cell_type": "code",
   "execution_count": 4,
   "metadata": {},
   "outputs": [
    {
     "data": {
      "text/plain": [
       "100000"
      ]
     },
     "execution_count": 4,
     "metadata": {},
     "output_type": "execute_result"
    }
   ],
   "source": [
    "df_data = spark.read.format(\"csv\").option(\"header\", \"false\").option(\"inferSchema\", \"true\").load(f'{ml_100k_input_path}/*.data', delimiter='\\t')\n",
    "\n",
    "#df_data.show()\n",
    "df_data.count() "
   ]
  },
  {
   "cell_type": "markdown",
   "metadata": {},
   "source": [
    "## Result by converting df to RDD"
   ]
  },
  {
   "cell_type": "code",
   "execution_count": 14,
   "metadata": {},
   "outputs": [
    {
     "data": {
      "text/plain": [
       "defaultdict(int, {3: 27145, 1: 6110, 2: 11370, 4: 34174, 5: 21201})"
      ]
     },
     "execution_count": 14,
     "metadata": {},
     "output_type": "execute_result"
    }
   ],
   "source": [
    "df_data.rdd.map(lambda x: x[2]).countByValue()"
   ]
  },
  {
   "cell_type": "markdown",
   "metadata": {},
   "source": [
    "## Create dict of most submitted user ratings"
   ]
  },
  {
   "cell_type": "code",
   "execution_count": 15,
   "metadata": {},
   "outputs": [
    {
     "data": {
      "text/plain": [
       "defaultdict(int, {'3': 27145, '1': 6110, '2': 11370, '4': 34174, '5': 21201})"
      ]
     },
     "execution_count": 15,
     "metadata": {},
     "output_type": "execute_result"
    }
   ],
   "source": [
    "lines = sc.textFile(f'{ml_100k_input_path}/u.data')\n",
    "ratings = lines.map(lambda x: x.split('\\t')[2])\n",
    "result = ratings.countByValue()\n",
    "result"
   ]
  },
  {
   "cell_type": "code",
   "execution_count": 17,
   "metadata": {},
   "outputs": [
    {
     "name": "stdout",
     "output_type": "stream",
     "text": [
      "4 34174\n",
      "3 27145\n",
      "5 21201\n",
      "2 11370\n",
      "1 6110\n"
     ]
    }
   ],
   "source": [
    "sortedResults = OrderedDict(sorted(result.items(),reverse=True, key=lambda x: x[1]))\n",
    "for key, value in sortedResults.items():\n",
    "    print(\"%s %i\" % (key, value))"
   ]
  },
  {
   "cell_type": "code",
   "execution_count": null,
   "metadata": {},
   "outputs": [
    {
     "name": "stdout",
     "output_type": "stream",
     "text": [
      "4 34174\n",
      "3 27145\n",
      "5 21201\n",
      "2 11370\n",
      "1 6110\n"
     ]
    }
   ],
   "source": [
    "sortedResults = OrderedDict(sorted(result.items(),reverse=True, key=lambda x: x[1]))\n",
    "for key, value in sortedResults.items():\n",
    "    print(\"%s %i\" % (key, value))"
   ]
  }
 ],
 "metadata": {
  "kernelspec": {
   "display_name": "vscode_pyspark",
   "language": "python",
   "name": "vscode_pyspark"
  },
  "language_info": {
   "codemirror_mode": {
    "name": "ipython",
    "version": 3
   },
   "file_extension": ".py",
   "mimetype": "text/x-python",
   "name": "python",
   "nbconvert_exporter": "python",
   "pygments_lexer": "ipython3",
   "version": "3.11.11"
  }
 },
 "nbformat": 4,
 "nbformat_minor": 2
}
