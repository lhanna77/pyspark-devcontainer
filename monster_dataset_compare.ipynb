{
 "cells": [
  {
   "cell_type": "code",
   "execution_count": 1,
   "metadata": {},
   "outputs": [],
   "source": [
    "import datetime\n",
    "from pyspark import sql\n",
    "from lib import common_functions\n",
    "from lib import configuration"
   ]
  },
  {
   "cell_type": "code",
   "execution_count": 2,
   "metadata": {},
   "outputs": [
    {
     "data": {
      "text/html": [
       "\n",
       "            <div>\n",
       "                <p><b>SparkSession - in-memory</b></p>\n",
       "                \n",
       "        <div>\n",
       "            <p><b>SparkContext</b></p>\n",
       "\n",
       "            <p><a href=\"http://eae966a0cf95:4040\">Spark UI</a></p>\n",
       "\n",
       "            <dl>\n",
       "              <dt>Version</dt>\n",
       "                <dd><code>v3.5.0</code></dd>\n",
       "              <dt>Master</dt>\n",
       "                <dd><code>local[*]</code></dd>\n",
       "              <dt>AppName</dt>\n",
       "                <dd><code>monster</code></dd>\n",
       "            </dl>\n",
       "        </div>\n",
       "        \n",
       "            </div>\n",
       "        "
      ],
      "text/plain": [
       "<pyspark.sql.session.SparkSession at 0x7f2d97ba1e90>"
      ]
     },
     "execution_count": 2,
     "metadata": {},
     "output_type": "execute_result"
    }
   ],
   "source": [
    "spark = common_functions.get_spark_session('monster')\n",
    "spark.active()"
   ]
  },
  {
   "cell_type": "markdown",
   "metadata": {},
   "source": [
    "Variables"
   ]
  },
  {
   "cell_type": "code",
   "execution_count": 8,
   "metadata": {},
   "outputs": [
    {
     "data": {
      "text/plain": [
       "'/home/jovyan/code/files/input/monster/bq-results-DWH.csv'"
      ]
     },
     "execution_count": 8,
     "metadata": {},
     "output_type": "execute_result"
    }
   ],
   "source": [
    "#export_name = 'employer_users'\n",
    "export_name = 'bq-results'\n",
    "\n",
    "old_path = configuration.monster_input_path+f'{export_name}-DL.csv'\n",
    "new_path = configuration.monster_input_path+f'{export_name}-DWH.csv'\n",
    "\n",
    "new_path"
   ]
  },
  {
   "cell_type": "markdown",
   "metadata": {},
   "source": [
    "Dataframes"
   ]
  },
  {
   "cell_type": "code",
   "execution_count": 9,
   "metadata": {},
   "outputs": [],
   "source": [
    "df_old = spark.read.format(\"csv\").options(header='true', inferSchema='true', delimiter=',').load(old_path)\n",
    "df_new = spark.read.format(\"csv\").options(header='true', inferSchema='true', delimiter=',').load(new_path)"
   ]
  },
  {
   "cell_type": "code",
   "execution_count": 14,
   "metadata": {},
   "outputs": [],
   "source": [
    "df_old = df_old.filter(df_old.rowNoUpdatedTime.cast('int') == 1)\n",
    "df_new = df_new.filter(df_new.rowNoUpdatedTime.cast('int') == 1)"
   ]
  },
  {
   "cell_type": "code",
   "execution_count": 15,
   "metadata": {},
   "outputs": [
    {
     "name": "stdout",
     "output_type": "stream",
     "text": [
      "78511\n",
      "78428\n",
      "83\n"
     ]
    }
   ],
   "source": [
    "print(df_old.count())\n",
    "print(df_new.count())\n",
    "\n",
    "print(df_old.count()-df_new.count())"
   ]
  },
  {
   "cell_type": "code",
   "execution_count": 16,
   "metadata": {},
   "outputs": [
    {
     "name": "stdout",
     "output_type": "stream",
     "text": [
      "83\n",
      "+--------------------+--------------------+--------------------+--------------------+--------------------------+----------------+\n",
      "|       ecomAccountId|    billingAccountId|     createdByUserId|         accountName|employerAccountCreatedTime|rowNoUpdatedTime|\n",
      "+--------------------+--------------------+--------------------+--------------------+--------------------------+----------------+\n",
      "|42c89cfb-3a31-4b7...|8a129f7a946d3ee50...|caa8149c-4755-40c...|Stadtbäckerei Küh...|      2025-01-16 09:31:...|               1|\n",
      "|89f1bc98-f121-440...|8a129b5d946998380...|c25bee86-5658-4be...|Tyler Athletic Fi...|      2025-01-16 03:13:...|               1|\n",
      "|6f4f2bd3-a378-4f4...|8a128757946d53850...|8845f74b-8882-493...|    Chardam Gear co.|      2025-01-16 12:50:...|               1|\n",
      "|0c44724b-3cee-4d8...|8a1289b9946d25410...|817f1ace-cafc-4dc...|Sketch Brahma Tec...|      2025-01-16 07:47:...|               1|\n",
      "|8a0a8ccf-1514-41f...|8a12837e946d253d0...|07a93a88-38a4-4b9...|Pencil Perfection...|      2025-01-16 10:09:...|               1|\n",
      "|1e7cb28b-0226-44d...|8a129476946d3ee60...|8547c7b8-4d68-429...|Allengers Global ...|      2025-01-16 07:31:...|               1|\n",
      "|dfcc02df-bcd3-46c...|8a129989946d3eea0...|e1aafaac-6d3a-42d...|BM Retail Holding BV|      2025-01-16 10:20:...|               1|\n",
      "|503815af-df74-4f4...|8a1298ad946f392b0...|0be3f3af-8f2b-49f...|Entanglement Expe...|      2025-01-16 14:26:...|               1|\n",
      "|a4f73d95-887f-46d...|8a128eab94697bf30...|5904718f-d589-478...|       Be Nice Autos|      2025-01-16 02:19:...|               1|\n",
      "|658139e9-41f2-480...|8a12837e94697bd80...|487f8249-ab08-406...|   Business Advisors|      2025-01-16 02:54:...|               1|\n",
      "|28939071-03ea-49e...|8a128f54946d538e0...|82bf7d0c-d3a2-43f...|DOKA Internationa...|      2025-01-16 13:08:...|               1|\n",
      "|aeff4c08-d96e-4c9...|8a12979e946d3eea0...|52187c88-5375-4a0...|Divine Astrovastu...|      2025-01-16 11:27:...|               1|\n",
      "|aec6f5e7-c3d1-450...|8a129920946f06b10...|69cacff1-72c0-4bd...|Lynn Levy Land Co...|      2025-01-16 13:58:...|               1|\n",
      "|12efe30c-98dc-4be...|8a12820a94697bd30...|b547b148-21f7-4e6...|         Habibi Time|      2025-01-16 02:25:...|               1|\n",
      "|4a816660-19e9-4a1...|8a12820a946d253f0...|2b5a28ce-aa1a-4cc...|           Enlisting|      2025-01-16 06:51:...|               1|\n",
      "|36069d6e-2eb7-4a5...|8a128047946d253c0...|e3ad29f3-7fc3-44c...|           NCRi Inc.|      2025-01-16 08:49:...|               1|\n",
      "|9e18e5a5-ba15-4fa...|8a12881d946f39290...|3b8ebcd1-b650-4ca...|                Boso|      2025-01-16 13:51:...|               1|\n",
      "|fe6989a0-7c43-45f...|8a129aaa946f06b70...|0442a10d-0005-48f...|            WaterBoy|      2025-01-16 14:23:...|               1|\n",
      "|10b518bf-ea39-439...|8a12837e94697bd80...|8786caaa-a5b1-4dd...|Shore Point Build...|      2025-01-16 01:02:...|               1|\n",
      "|1a631564-6f45-428...|8a1289b9946d25410...|3941b0d4-176c-4b0...|Net Avenue techno...|      2025-01-16 06:19:...|               1|\n",
      "+--------------------+--------------------+--------------------+--------------------+--------------------------+----------------+\n",
      "only showing top 20 rows\n",
      "\n"
     ]
    }
   ],
   "source": [
    "missing_in_new = df_old.join(df_new, on=['ecomAccountId'], how='left_anti')\n",
    "print(missing_in_new.count())\n",
    "missing_in_new.show()"
   ]
  },
  {
   "cell_type": "code",
   "execution_count": 17,
   "metadata": {},
   "outputs": [],
   "source": [
    "missing_in_new.toPandas().to_csv(f'{configuration.monster_output_path}{export_name}_prd_missing_DWH_vs_DL_{datetime.date.today()}.csv')"
   ]
  },
  {
   "cell_type": "markdown",
   "metadata": {},
   "source": [
    "Fix Column names"
   ]
  }
 ],
 "metadata": {
  "kernelspec": {
   "display_name": "vscode_pyspark",
   "language": "python",
   "name": "vscode_pyspark"
  },
  "language_info": {
   "codemirror_mode": {
    "name": "ipython",
    "version": 3
   },
   "file_extension": ".py",
   "mimetype": "text/x-python",
   "name": "python",
   "nbconvert_exporter": "python",
   "pygments_lexer": "ipython3",
   "version": "3.11.11"
  }
 },
 "nbformat": 4,
 "nbformat_minor": 2
}
