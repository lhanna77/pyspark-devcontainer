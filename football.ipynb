{
 "cells": [
  {
   "cell_type": "code",
   "execution_count": 12,
   "metadata": {},
   "outputs": [],
   "source": [
    "from pyspark import sql\n",
    "from lib import common_functions\n",
    "from lib import configuration"
   ]
  },
  {
   "cell_type": "code",
   "execution_count": null,
   "metadata": {},
   "outputs": [
    {
     "data": {
      "text/html": [
       "\n",
       "            <div>\n",
       "                <p><b>SparkSession - in-memory</b></p>\n",
       "                \n",
       "        <div>\n",
       "            <p><b>SparkContext</b></p>\n",
       "\n",
       "            <p><a href=\"http://ad23f7020e7b:4040\">Spark UI</a></p>\n",
       "\n",
       "            <dl>\n",
       "              <dt>Version</dt>\n",
       "                <dd><code>v3.5.0</code></dd>\n",
       "              <dt>Master</dt>\n",
       "                <dd><code>local[*]</code></dd>\n",
       "              <dt>AppName</dt>\n",
       "                <dd><code>general</code></dd>\n",
       "            </dl>\n",
       "        </div>\n",
       "        \n",
       "            </div>\n",
       "        "
      ],
      "text/plain": [
       "<pyspark.sql.session.SparkSession at 0x7f3d91974bd0>"
      ]
     },
     "execution_count": 2,
     "metadata": {},
     "output_type": "execute_result"
    }
   ],
   "source": [
    "spark = common_functions.get_spark_session('football')\n",
    "spark.active()"
   ]
  },
  {
   "cell_type": "markdown",
   "metadata": {},
   "source": [
    "Variables"
   ]
  },
  {
   "cell_type": "code",
   "execution_count": null,
   "metadata": {},
   "outputs": [
    {
     "data": {
      "text/plain": [
       "'/home/jovyan/code/files/input/CRN Temp - Goals.csv'"
      ]
     },
     "execution_count": 5,
     "metadata": {},
     "output_type": "execute_result"
    }
   ],
   "source": [
    "goals_path = configuration.football_input_path+'CRN Temp - Goals.csv'\n",
    "win_path = configuration.football_input_path+'win_btts.csv'\n",
    "\n",
    "goals_path"
   ]
  },
  {
   "cell_type": "markdown",
   "metadata": {},
   "source": [
    "Dataframes"
   ]
  },
  {
   "cell_type": "code",
   "execution_count": 39,
   "metadata": {},
   "outputs": [],
   "source": [
    "df_goals = spark.read.format(\"csv\").options(header='true', inferSchema='true', delimiter=',').load(goals_path)\n",
    "df_goals = df_goals.drop('7.47%').drop('47.04%')\n",
    "df_win = spark.read.format(\"csv\").options(header='true', inferSchema='true', delimiter=',').load(win_path)"
   ]
  },
  {
   "cell_type": "markdown",
   "metadata": {},
   "source": [
    "Fix Column names"
   ]
  },
  {
   "cell_type": "code",
   "execution_count": 41,
   "metadata": {},
   "outputs": [
    {
     "name": "stdout",
     "output_type": "stream",
     "text": [
      "+---+--------------------+--------+------------+------------+--------+-----+----------+----------+----+--------+--------+------+--------+--------+---------+-------------+--------+----------+----+--------------+\n",
      "| ID|             Fixture|Home_For|Home_Against|Away_Against|Away_For|Total|Home_Goals|Away_Goals|BTTS|Over_One|Over_Two|Result|Home_Win|Away_Win|BTTS_Perc|Over_Two_Perc|WIN_Perc|windrawwin|Odds|windrawwinPred|\n",
      "+---+--------------------+--------+------------+------------+--------+-----+----------+----------+----+--------+--------+------+--------+--------+---------+-------------+--------+----------+----+--------------+\n",
      "|  1|Borussia M'gladba...|      15|           6|          11|       5|   37|         1|         0|   0|       0|       0|     1|       1|       0|     NULL|         NULL|    NULL|      NULL|NULL|          NULL|\n",
      "|  2|      Lyon vs Troyes|      14|           8|          13|       6|   41|         4|         1|   1|       1|       1|     1|       1|       0|     NULL|         NULL|    NULL|      NULL|NULL|          NULL|\n",
      "|  3|Legia Warsaw vs G...|      10|           6|          12|      10|   38|         2|         2|   1|       1|       1|     3|       0|       0|     NULL|         NULL|    NULL|      NULL|NULL|          NULL|\n",
      "|  4|1860 München vs H...|       9|           8|          10|      12|   39|         3|         1|   1|       1|       1|     1|       1|       0|     NULL|         NULL|    NULL|      NULL|NULL|          NULL|\n",
      "|  5|NAC Breda vs TOP Oss|       5|           2|          16|       6|   29|         1|         0|   0|       0|       0|     1|       1|       0|     NULL|         NULL|    NULL|      NULL|NULL|          NULL|\n",
      "|  6|Bodø / Glimt vs H...|      21|           0|           6|       8|   35|         2|         2|   1|       1|       1|     3|       0|       0|     NULL|         NULL|    NULL|      NULL|NULL|          NULL|\n",
      "|  7|Genk vs Cercle Br...|      13|           6|           8|       3|   30|         2|         1|   1|       1|       1|     1|       1|       0|     NULL|         NULL|    NULL|      NULL|NULL|          NULL|\n",
      "|  8|    Líšeň vs Příbram|       9|           5|          10|      10|   34|         0|         0|   0|       0|       0|     3|       0|       0|     NULL|         NULL|    NULL|      NULL|NULL|          NULL|\n",
      "|  9|Dinamo Zagreb vs ...|      17|           8|           6|      11|   42|         5|         2|   1|       1|       1|     1|       1|       0|     NULL|         NULL|    NULL|      NULL|NULL|          NULL|\n",
      "| 10|    Celtic vs Hearts|      15|           3|           6|      10|   34|         2|         0|   0|       1|       0|     1|       1|       0|     NULL|         NULL|    NULL|      NULL|NULL|          NULL|\n",
      "| 11|Sandnes Ulf vs St...|      14|           6|          13|       5|   38|         0|         0|   0|       0|       0|     3|       0|       0|     NULL|         NULL|    NULL|      NULL|NULL|          NULL|\n",
      "| 12|Slovan Bratislava...|      13|           7|           8|      11|   39|         3|         1|   1|       1|       1|     1|       1|       0|     NULL|         NULL|    NULL|      NULL|NULL|          NULL|\n",
      "| 13|Sporting Braga vs...|      13|           7|          10|       4|   34|         5|         0|   0|       1|       1|     1|       1|       0|     NULL|         NULL|    NULL|      NULL|NULL|          NULL|\n",
      "| 14|Rosenborg vs Aale...|      13|           4|           9|       5|   31|         2|         1|   1|       1|       1|     1|       1|       0|     NULL|         NULL|    NULL|      NULL|NULL|          NULL|\n",
      "| 15|Halmstad vs Väste...|      13|           5|           5|       6|   29|         1|         1|   1|       1|       0|     3|       0|       0|     NULL|         NULL|    NULL|      NULL|NULL|          NULL|\n",
      "| 16|Club Brugge vs Ko...|      11|           9|          13|      11|   44|         2|         1|   1|       1|       1|     1|       1|       0|     NULL|         NULL|    NULL|      NULL|NULL|          NULL|\n",
      "| 17| Valerenga vs Tromsø|      11|           4|          10|       3|   28|         1|         0|   0|       0|       0|     1|       1|       0|     NULL|         NULL|    NULL|      NULL|NULL|          NULL|\n",
      "| 18|Strømsgodset vs Jerv|      10|           4|          12|       4|   30|         6|         0|   0|       1|       1|     1|       1|       0|     NULL|         NULL|    NULL|      NULL|NULL|          NULL|\n",
      "| 19|Panathinaikos vs ...|       8|           2|           7|       3|   20|         1|         0|   0|       0|       0|     1|       1|       0|     NULL|         NULL|    NULL|      NULL|NULL|          NULL|\n",
      "| 20|Olympiakos vs PAS...|       3|           6|          10|       4|   23|         2|         0|   0|       1|       0|     1|       1|       0|     NULL|         NULL|    NULL|      NULL|NULL|          NULL|\n",
      "+---+--------------------+--------+------------+------------+--------+-----+----------+----------+----+--------+--------+------+--------+--------+---------+-------------+--------+----------+----+--------------+\n",
      "only showing top 20 rows\n",
      "\n"
     ]
    }
   ],
   "source": [
    "col_dict_to_update = {'Fixture (O 1.5, if not stated)':'Fixture','Over 1.5 Goals':'Over One','Over 2.5 Goals':'Over Two','BTTS %':'BTTS Perc','Over 2.5 Goals %':'Over Two Perc','WIN %':'WIN Perc'}\n",
    "\n",
    "for x, y in col_dict_to_update.items():\n",
    "    df_goals = df_goals.withColumnRenamed(x,y)\n",
    "    \n",
    "df_goals = df_goals.select([sql.functions.col(x).alias(x.replace(' ', '_')) for x in df_goals.columns])\n",
    "\n",
    "df_goals.show()"
   ]
  },
  {
   "cell_type": "markdown",
   "metadata": {},
   "source": [
    "Filters"
   ]
  },
  {
   "cell_type": "code",
   "execution_count": 53,
   "metadata": {},
   "outputs": [
    {
     "name": "stdout",
     "output_type": "stream",
     "text": [
      "+-----+--------------------+--------+------------+------------+--------+-----+----------+----------+----+--------+--------+------+--------+--------+---------+-------------+--------+----------+----+--------------+\n",
      "|   ID|             Fixture|Home_For|Home_Against|Away_Against|Away_For|Total|Home_Goals|Away_Goals|BTTS|Over_One|Over_Two|Result|Home_Win|Away_Win|BTTS_Perc|Over_Two_Perc|WIN_Perc|windrawwin|Odds|windrawwinPred|\n",
      "+-----+--------------------+--------+------------+------------+--------+-----+----------+----------+----+--------+--------+------+--------+--------+---------+-------------+--------+----------+----+--------------+\n",
      "|  995|Sparta Praha vs P...|      17|           6|           7|       5|   35|         2|         1|   1|       1|       1|     1|       1|       0|     0.54|         0.61|     0.7|       2-0|NULL|             1|\n",
      "|  996|Manchester City v...|      15|           3|           6|      12|   36|         4|         1|   1|       1|       1|     1|       1|       0|     0.56|         0.58|     0.6|       2-1|NULL|             1|\n",
      "|  997|Atletico Madrid v...|      13|           2|           8|       5|   28|         3|         1|   1|       1|       1|     1|       1|       0|     0.51|         0.57|    0.68|       2-0|NULL|             1|\n",
      "|  998|Dinamo Zagreb vs ...|      11|           1|           7|       4|   23|         2|         0|   0|       1|       0|     1|       1|       0|      0.5|         0.54|    0.68|       2-0|NULL|             1|\n",
      "|  999|Sheffield Utd vs ...|       7|           2|           7|       6|   22|         2|         0|   0|       1|       0|     1|       1|       0|     0.47|         0.48|    0.63|       2-0|NULL|             1|\n",
      "|1,000|Rayo Vallecano vs...|       6|           6|           1|       6|   19|         2|         1|   1|       1|       1|     1|       1|       0|     0.47|         0.56|    0.78|       0-1|NULL|             2|\n",
      "|1,001|Volos NFC vs Pana...|       1|           9|           1|       5|   16|         0|         2|   0|       1|       0|     2|       0|       1|     0.52|         0.64|    0.84|       1-2|NULL|             2|\n",
      "|1,002|Heracles vs Jong PSV|      14|           3|          10|       6|   33|         3|         0|   0|       1|       1|     1|       1|       0|     0.51|          0.6|    0.68|       3-0|NULL|             1|\n",
      "|1,003|Raków Częstochowa...|      13|           2|          10|       1|   26|         4|         0|   0|       1|       1|     1|       1|       0|     0.48|         0.59|    0.74|       3-0|NULL|             1|\n",
      "|1,004|Melbourne City vs...|      12|           6|           9|      12|   39|         3|         2|   1|       1|       1|     1|       1|       0|     0.51|         0.56|    0.58|       2-0|NULL|             1|\n",
      "|1,005|SC Paderborn 07 v...|      12|           5|           9|       5|   31|         5|         1|   1|       1|       1|     1|       1|       0|     0.49|         0.56|    0.67|       3-0|NULL|             1|\n",
      "|1,006|FC Eindhoven vs J...|      11|          10|          10|       0|   31|         2|         0|   0|       1|       0|     1|       1|       0|     0.45|         0.55|    0.69|       3-0|NULL|             1|\n",
      "|1,007|Legia Warszawa vs...|      11|           7|           8|       3|   29|         2|         0|   0|       1|       0|     1|       1|       0|     0.48|         0.54|    0.67|       3-0|NULL|             1|\n",
      "|1,008|Waldhof Mannheim ...|      10|           7|           5|       7|   29|         4|         1|   1|       1|       1|     1|       1|       0|     0.51|          0.5|    0.61|       3-0|NULL|             1|\n",
      "|1,009|Gent vs KVC Westerlo|       8|           3|           4|       4|   19|         3|         1|   1|       1|       1|     1|       1|       0|     0.49|         0.47|    0.66|       2-2|NULL|             3|\n",
      "|1,010|VfL BOCHUM vs Bor...|       4|          12|           9|      10|   35|         1|         1|   1|       1|       0|     3|       0|       0|     0.63|         0.63|    0.75|       1-2|NULL|             2|\n",
      "|1,011|SV Wehen vs SV Me...|      13|           6|           9|       3|   31|         1|         2|   1|       1|       1|     2|       0|       1|     0.49|         0.57|    0.69|       3-0|1.33|             1|\n",
      "|1,012|    Lille vs Ajaccio|      12|           6|          12|       2|   32|         3|         0|   0|       1|       1|     1|       1|       0|     0.46|         0.58|     0.7|       3-0|1.22|             1|\n",
      "|1,014|  Brighton vs Wolves|       9|           4|           8|       4|   25|         6|         0|   0|       1|       1|     1|       1|       0|     0.47|         0.51|    0.66|       2-0|NULL|             1|\n",
      "|1,015|RB Leipzig vs 189...|       9|           8|           6|       4|   27|         1|         0|   0|       0|       0|     1|       1|       0|     0.48|         0.49|    0.64|       3-0|NULL|             1|\n",
      "+-----+--------------------+--------+------------+------------+--------+-----+----------+----------+----+--------+--------+------+--------+--------+---------+-------------+--------+----------+----+--------------+\n",
      "only showing top 20 rows\n",
      "\n"
     ]
    }
   ],
   "source": [
    "df_history = df_goals.filter(df_goals.Home_Goals.isNotNull()).filter(df_goals.BTTS_Perc.isNotNull()).filter(df_goals.Over_Two_Perc.isNotNull()).filter(df_goals.windrawwin.isNotNull())\n",
    "df_predict = df_goals.filter(df_goals.Home_Goals.isNull())\n",
    "df_history.show()\n",
    "\n",
    "df_history.count()\n",
    "\n",
    "df_history.toPandas().to_csv('files/output/export.csv')"
   ]
  }
 ],
 "metadata": {
  "kernelspec": {
   "display_name": "vscode_pyspark",
   "language": "python",
   "name": "vscode_pyspark"
  },
  "language_info": {
   "codemirror_mode": {
    "name": "ipython",
    "version": 3
   },
   "file_extension": ".py",
   "mimetype": "text/x-python",
   "name": "python",
   "nbconvert_exporter": "python",
   "pygments_lexer": "ipython3",
   "version": "3.11.10"
  }
 },
 "nbformat": 4,
 "nbformat_minor": 2
}
